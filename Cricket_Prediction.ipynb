{
  "nbformat": 4,
  "nbformat_minor": 0,
  "metadata": {
    "colab": {
      "name": "Cricket Prediction.ipynb",
      "provenance": [],
      "collapsed_sections": []
    },
    "kernelspec": {
      "display_name": "Python 3",
      "name": "python3"
    }
  },
  "cells": [
    {
      "cell_type": "code",
      "metadata": {
        "id": "DLKzv3hNxEP1"
      },
      "source": [
        "import numpy as np\n",
        "import pandas as pd"
      ],
      "execution_count": 1,
      "outputs": []
    },
    {
      "cell_type": "code",
      "metadata": {
        "id": "5DZ62C24xmmg"
      },
      "source": [
        "matches=pd.read_csv('matches.csv')"
      ],
      "execution_count": 2,
      "outputs": []
    },
    {
      "cell_type": "code",
      "metadata": {
        "id": "vCHOwltT0cCH",
        "colab": {
          "base_uri": "https://localhost:8080/"
        },
        "outputId": "cdea9933-38bc-419a-f7f7-df5c4cf4d558"
      },
      "source": [
        "matches.info()"
      ],
      "execution_count": 3,
      "outputs": [
        {
          "output_type": "stream",
          "text": [
            "<class 'pandas.core.frame.DataFrame'>\n",
            "RangeIndex: 756 entries, 0 to 755\n",
            "Data columns (total 18 columns):\n",
            " #   Column           Non-Null Count  Dtype \n",
            "---  ------           --------------  ----- \n",
            " 0   Unnamed: 0       756 non-null    int64 \n",
            " 1   Season           756 non-null    object\n",
            " 2   city             749 non-null    object\n",
            " 3   date             756 non-null    object\n",
            " 4   team1            756 non-null    object\n",
            " 5   team2            756 non-null    object\n",
            " 6   toss_winner      756 non-null    object\n",
            " 7   toss_decision    756 non-null    object\n",
            " 8   result           756 non-null    object\n",
            " 9   dl_applied       756 non-null    int64 \n",
            " 10  winner           752 non-null    object\n",
            " 11  win_by_runs      756 non-null    int64 \n",
            " 12  win_by_wickets   756 non-null    int64 \n",
            " 13  player_of_match  752 non-null    object\n",
            " 14  venue            756 non-null    object\n",
            " 15  umpire1          754 non-null    object\n",
            " 16  umpire2          754 non-null    object\n",
            " 17  umpire3          79 non-null     object\n",
            "dtypes: int64(4), object(14)\n",
            "memory usage: 106.4+ KB\n"
          ],
          "name": "stdout"
        }
      ]
    },
    {
      "cell_type": "code",
      "metadata": {
        "id": "Vci84rpz3k1O",
        "colab": {
          "base_uri": "https://localhost:8080/",
          "height": 434
        },
        "outputId": "d8ba0730-7a97-4a23-de8c-64ff2fe5638a"
      },
      "source": [
        "matches.head()"
      ],
      "execution_count": 4,
      "outputs": [
        {
          "output_type": "execute_result",
          "data": {
            "text/html": [
              "<div>\n",
              "<style scoped>\n",
              "    .dataframe tbody tr th:only-of-type {\n",
              "        vertical-align: middle;\n",
              "    }\n",
              "\n",
              "    .dataframe tbody tr th {\n",
              "        vertical-align: top;\n",
              "    }\n",
              "\n",
              "    .dataframe thead th {\n",
              "        text-align: right;\n",
              "    }\n",
              "</style>\n",
              "<table border=\"1\" class=\"dataframe\">\n",
              "  <thead>\n",
              "    <tr style=\"text-align: right;\">\n",
              "      <th></th>\n",
              "      <th>Unnamed: 0</th>\n",
              "      <th>Season</th>\n",
              "      <th>city</th>\n",
              "      <th>date</th>\n",
              "      <th>team1</th>\n",
              "      <th>team2</th>\n",
              "      <th>toss_winner</th>\n",
              "      <th>toss_decision</th>\n",
              "      <th>result</th>\n",
              "      <th>dl_applied</th>\n",
              "      <th>winner</th>\n",
              "      <th>win_by_runs</th>\n",
              "      <th>win_by_wickets</th>\n",
              "      <th>player_of_match</th>\n",
              "      <th>venue</th>\n",
              "      <th>umpire1</th>\n",
              "      <th>umpire2</th>\n",
              "      <th>umpire3</th>\n",
              "    </tr>\n",
              "  </thead>\n",
              "  <tbody>\n",
              "    <tr>\n",
              "      <th>0</th>\n",
              "      <td>1</td>\n",
              "      <td>IPL-2008</td>\n",
              "      <td>Bangalore</td>\n",
              "      <td>18-04-2008</td>\n",
              "      <td>Kolkata Knight Riders</td>\n",
              "      <td>Royal Challengers Bangalore</td>\n",
              "      <td>Royal Challengers Bangalore</td>\n",
              "      <td>field</td>\n",
              "      <td>normal</td>\n",
              "      <td>0</td>\n",
              "      <td>Kolkata Knight Riders</td>\n",
              "      <td>140</td>\n",
              "      <td>0</td>\n",
              "      <td>BB McCullum</td>\n",
              "      <td>M Chinnaswamy Stadium</td>\n",
              "      <td>Asad Rauf</td>\n",
              "      <td>RE Koertzen</td>\n",
              "      <td>NaN</td>\n",
              "    </tr>\n",
              "    <tr>\n",
              "      <th>1</th>\n",
              "      <td>2</td>\n",
              "      <td>IPL-2008</td>\n",
              "      <td>Chandigarh</td>\n",
              "      <td>19-04-2008</td>\n",
              "      <td>Chennai Super Kings</td>\n",
              "      <td>Kings XI Punjab</td>\n",
              "      <td>Chennai Super Kings</td>\n",
              "      <td>bat</td>\n",
              "      <td>normal</td>\n",
              "      <td>0</td>\n",
              "      <td>Chennai Super Kings</td>\n",
              "      <td>33</td>\n",
              "      <td>0</td>\n",
              "      <td>MEK Hussey</td>\n",
              "      <td>Punjab Cricket Association Stadium, Mohali</td>\n",
              "      <td>MR Benson</td>\n",
              "      <td>SL Shastri</td>\n",
              "      <td>NaN</td>\n",
              "    </tr>\n",
              "    <tr>\n",
              "      <th>2</th>\n",
              "      <td>3</td>\n",
              "      <td>IPL-2008</td>\n",
              "      <td>Delhi</td>\n",
              "      <td>19-04-2008</td>\n",
              "      <td>Rajasthan Royals</td>\n",
              "      <td>Delhi Daredevils</td>\n",
              "      <td>Rajasthan Royals</td>\n",
              "      <td>bat</td>\n",
              "      <td>normal</td>\n",
              "      <td>0</td>\n",
              "      <td>Delhi Daredevils</td>\n",
              "      <td>0</td>\n",
              "      <td>9</td>\n",
              "      <td>MF Maharoof</td>\n",
              "      <td>Feroz Shah Kotla</td>\n",
              "      <td>Aleem Dar</td>\n",
              "      <td>GA Pratapkumar</td>\n",
              "      <td>NaN</td>\n",
              "    </tr>\n",
              "    <tr>\n",
              "      <th>3</th>\n",
              "      <td>4</td>\n",
              "      <td>IPL-2008</td>\n",
              "      <td>Mumbai</td>\n",
              "      <td>20-04-2008</td>\n",
              "      <td>Mumbai Indians</td>\n",
              "      <td>Royal Challengers Bangalore</td>\n",
              "      <td>Mumbai Indians</td>\n",
              "      <td>bat</td>\n",
              "      <td>normal</td>\n",
              "      <td>0</td>\n",
              "      <td>Royal Challengers Bangalore</td>\n",
              "      <td>0</td>\n",
              "      <td>5</td>\n",
              "      <td>MV Boucher</td>\n",
              "      <td>Wankhede Stadium</td>\n",
              "      <td>SJ Davis</td>\n",
              "      <td>DJ Harper</td>\n",
              "      <td>NaN</td>\n",
              "    </tr>\n",
              "    <tr>\n",
              "      <th>4</th>\n",
              "      <td>5</td>\n",
              "      <td>IPL-2008</td>\n",
              "      <td>Kolkata</td>\n",
              "      <td>20-04-2008</td>\n",
              "      <td>Deccan Chargers</td>\n",
              "      <td>Kolkata Knight Riders</td>\n",
              "      <td>Deccan Chargers</td>\n",
              "      <td>bat</td>\n",
              "      <td>normal</td>\n",
              "      <td>0</td>\n",
              "      <td>Kolkata Knight Riders</td>\n",
              "      <td>0</td>\n",
              "      <td>5</td>\n",
              "      <td>DJ Hussey</td>\n",
              "      <td>Eden Gardens</td>\n",
              "      <td>BF Bowden</td>\n",
              "      <td>K Hariharan</td>\n",
              "      <td>NaN</td>\n",
              "    </tr>\n",
              "  </tbody>\n",
              "</table>\n",
              "</div>"
            ],
            "text/plain": [
              "   Unnamed: 0    Season        city  ...    umpire1         umpire2 umpire3\n",
              "0           1  IPL-2008   Bangalore  ...  Asad Rauf     RE Koertzen     NaN\n",
              "1           2  IPL-2008  Chandigarh  ...  MR Benson      SL Shastri     NaN\n",
              "2           3  IPL-2008       Delhi  ...  Aleem Dar  GA Pratapkumar     NaN\n",
              "3           4  IPL-2008      Mumbai  ...   SJ Davis       DJ Harper     NaN\n",
              "4           5  IPL-2008     Kolkata  ...  BF Bowden     K Hariharan     NaN\n",
              "\n",
              "[5 rows x 18 columns]"
            ]
          },
          "metadata": {
            "tags": []
          },
          "execution_count": 4
        }
      ]
    },
    {
      "cell_type": "code",
      "metadata": {
        "id": "dRjPqewz33wy",
        "colab": {
          "base_uri": "https://localhost:8080/",
          "height": 337
        },
        "outputId": "9bea13ed-a7ac-45a6-aada-d656e798c47f"
      },
      "source": [
        "matches[pd.isnull(matches['winner'])]"
      ],
      "execution_count": 5,
      "outputs": [
        {
          "output_type": "execute_result",
          "data": {
            "text/html": [
              "<div>\n",
              "<style scoped>\n",
              "    .dataframe tbody tr th:only-of-type {\n",
              "        vertical-align: middle;\n",
              "    }\n",
              "\n",
              "    .dataframe tbody tr th {\n",
              "        vertical-align: top;\n",
              "    }\n",
              "\n",
              "    .dataframe thead th {\n",
              "        text-align: right;\n",
              "    }\n",
              "</style>\n",
              "<table border=\"1\" class=\"dataframe\">\n",
              "  <thead>\n",
              "    <tr style=\"text-align: right;\">\n",
              "      <th></th>\n",
              "      <th>Unnamed: 0</th>\n",
              "      <th>Season</th>\n",
              "      <th>city</th>\n",
              "      <th>date</th>\n",
              "      <th>team1</th>\n",
              "      <th>team2</th>\n",
              "      <th>toss_winner</th>\n",
              "      <th>toss_decision</th>\n",
              "      <th>result</th>\n",
              "      <th>dl_applied</th>\n",
              "      <th>winner</th>\n",
              "      <th>win_by_runs</th>\n",
              "      <th>win_by_wickets</th>\n",
              "      <th>player_of_match</th>\n",
              "      <th>venue</th>\n",
              "      <th>umpire1</th>\n",
              "      <th>umpire2</th>\n",
              "      <th>umpire3</th>\n",
              "    </tr>\n",
              "  </thead>\n",
              "  <tbody>\n",
              "    <tr>\n",
              "      <th>241</th>\n",
              "      <td>242</td>\n",
              "      <td>IPL-2011</td>\n",
              "      <td>Delhi</td>\n",
              "      <td>21-05-2011</td>\n",
              "      <td>Delhi Daredevils</td>\n",
              "      <td>Pune Warriors</td>\n",
              "      <td>Delhi Daredevils</td>\n",
              "      <td>bat</td>\n",
              "      <td>no result</td>\n",
              "      <td>0</td>\n",
              "      <td>NaN</td>\n",
              "      <td>0</td>\n",
              "      <td>0</td>\n",
              "      <td>NaN</td>\n",
              "      <td>Feroz Shah Kotla</td>\n",
              "      <td>SS Hazare</td>\n",
              "      <td>RJ Tucker</td>\n",
              "      <td>NaN</td>\n",
              "    </tr>\n",
              "    <tr>\n",
              "      <th>486</th>\n",
              "      <td>487</td>\n",
              "      <td>IPL-2015</td>\n",
              "      <td>Bangalore</td>\n",
              "      <td>29-04-2015</td>\n",
              "      <td>Royal Challengers Bangalore</td>\n",
              "      <td>Rajasthan Royals</td>\n",
              "      <td>Rajasthan Royals</td>\n",
              "      <td>field</td>\n",
              "      <td>no result</td>\n",
              "      <td>0</td>\n",
              "      <td>NaN</td>\n",
              "      <td>0</td>\n",
              "      <td>0</td>\n",
              "      <td>NaN</td>\n",
              "      <td>M Chinnaswamy Stadium</td>\n",
              "      <td>JD Cloete</td>\n",
              "      <td>PG Pathak</td>\n",
              "      <td>NaN</td>\n",
              "    </tr>\n",
              "    <tr>\n",
              "      <th>511</th>\n",
              "      <td>512</td>\n",
              "      <td>IPL-2015</td>\n",
              "      <td>Bangalore</td>\n",
              "      <td>17-05-2015</td>\n",
              "      <td>Delhi Daredevils</td>\n",
              "      <td>Royal Challengers Bangalore</td>\n",
              "      <td>Royal Challengers Bangalore</td>\n",
              "      <td>field</td>\n",
              "      <td>no result</td>\n",
              "      <td>0</td>\n",
              "      <td>NaN</td>\n",
              "      <td>0</td>\n",
              "      <td>0</td>\n",
              "      <td>NaN</td>\n",
              "      <td>M Chinnaswamy Stadium</td>\n",
              "      <td>HDPK Dharmasena</td>\n",
              "      <td>K Srinivasan</td>\n",
              "      <td>NaN</td>\n",
              "    </tr>\n",
              "    <tr>\n",
              "      <th>744</th>\n",
              "      <td>745</td>\n",
              "      <td>IPL-2019</td>\n",
              "      <td>Bengaluru</td>\n",
              "      <td>30-04-2019</td>\n",
              "      <td>Royal Challengers Bangalore</td>\n",
              "      <td>Rajasthan Royals</td>\n",
              "      <td>Rajasthan Royals</td>\n",
              "      <td>field</td>\n",
              "      <td>no result</td>\n",
              "      <td>0</td>\n",
              "      <td>NaN</td>\n",
              "      <td>0</td>\n",
              "      <td>0</td>\n",
              "      <td>NaN</td>\n",
              "      <td>M. Chinnaswamy Stadium</td>\n",
              "      <td>Nigel Llong</td>\n",
              "      <td>Ulhas Gandhe</td>\n",
              "      <td>KN Anantapadmanabhan</td>\n",
              "    </tr>\n",
              "  </tbody>\n",
              "</table>\n",
              "</div>"
            ],
            "text/plain": [
              "     Unnamed: 0    Season  ...       umpire2               umpire3\n",
              "241         242  IPL-2011  ...     RJ Tucker                   NaN\n",
              "486         487  IPL-2015  ...     PG Pathak                   NaN\n",
              "511         512  IPL-2015  ...  K Srinivasan                   NaN\n",
              "744         745  IPL-2019  ...  Ulhas Gandhe  KN Anantapadmanabhan\n",
              "\n",
              "[4 rows x 18 columns]"
            ]
          },
          "metadata": {
            "tags": []
          },
          "execution_count": 5
        }
      ]
    },
    {
      "cell_type": "code",
      "metadata": {
        "id": "wcIr6pyI4Ae9"
      },
      "source": [
        "matches['winner'].fillna('Draw',inplace=True)"
      ],
      "execution_count": 6,
      "outputs": []
    },
    {
      "cell_type": "code",
      "metadata": {
        "id": "9zaYQfgP4FOZ",
        "colab": {
          "base_uri": "https://localhost:8080/",
          "height": 35
        },
        "outputId": "3b14b35d-cc31-4c72-aa58-15a47bd10cf5"
      },
      "source": [
        "matches.loc[241,'winner']"
      ],
      "execution_count": 7,
      "outputs": [
        {
          "output_type": "execute_result",
          "data": {
            "application/vnd.google.colaboratory.intrinsic+json": {
              "type": "string"
            },
            "text/plain": [
              "'Draw'"
            ]
          },
          "metadata": {
            "tags": []
          },
          "execution_count": 7
        }
      ]
    },
    {
      "cell_type": "code",
      "metadata": {
        "id": "Y_b9br-44JON",
        "colab": {
          "base_uri": "https://localhost:8080/",
          "height": 35
        },
        "outputId": "dc04767c-9cef-4141-a864-b94625c2c6b2"
      },
      "source": [
        "matches.loc[486,'winner']"
      ],
      "execution_count": 8,
      "outputs": [
        {
          "output_type": "execute_result",
          "data": {
            "application/vnd.google.colaboratory.intrinsic+json": {
              "type": "string"
            },
            "text/plain": [
              "'Draw'"
            ]
          },
          "metadata": {
            "tags": []
          },
          "execution_count": 8
        }
      ]
    },
    {
      "cell_type": "code",
      "metadata": {
        "id": "c9XVSpif9N1O"
      },
      "source": [
        "matches.replace(['Mumbai Indians','Kolkata Knight Riders','Royal Challengers Bangalore','Deccan Chargers','Chennai Super Kings',\n",
        "                 'Rajasthan Royals','Delhi Daredevils','Gujarat Lions','Kings XI Punjab',\n",
        "                 'Sunrisers Hyderabad','Rising Pune Supergiants','Kochi Tuskers Kerala','Pune Warriors','Delhi Capitals'],\n",
        "               ['MI','KKR','RCB','DC','CSK','RR','DD','GL','KXIP','SRH','RPS','KTK','PW','DCA'],inplace=True)"
      ],
      "execution_count": 9,
      "outputs": []
    },
    {
      "cell_type": "code",
      "metadata": {
        "id": "07O6x0px4Mjx",
        "colab": {
          "base_uri": "https://localhost:8080/",
          "height": 434
        },
        "outputId": "6c89f88f-8b9f-4c86-8dd7-7ef4928acd6d"
      },
      "source": [
        "matches.head()"
      ],
      "execution_count": 10,
      "outputs": [
        {
          "output_type": "execute_result",
          "data": {
            "text/html": [
              "<div>\n",
              "<style scoped>\n",
              "    .dataframe tbody tr th:only-of-type {\n",
              "        vertical-align: middle;\n",
              "    }\n",
              "\n",
              "    .dataframe tbody tr th {\n",
              "        vertical-align: top;\n",
              "    }\n",
              "\n",
              "    .dataframe thead th {\n",
              "        text-align: right;\n",
              "    }\n",
              "</style>\n",
              "<table border=\"1\" class=\"dataframe\">\n",
              "  <thead>\n",
              "    <tr style=\"text-align: right;\">\n",
              "      <th></th>\n",
              "      <th>Unnamed: 0</th>\n",
              "      <th>Season</th>\n",
              "      <th>city</th>\n",
              "      <th>date</th>\n",
              "      <th>team1</th>\n",
              "      <th>team2</th>\n",
              "      <th>toss_winner</th>\n",
              "      <th>toss_decision</th>\n",
              "      <th>result</th>\n",
              "      <th>dl_applied</th>\n",
              "      <th>winner</th>\n",
              "      <th>win_by_runs</th>\n",
              "      <th>win_by_wickets</th>\n",
              "      <th>player_of_match</th>\n",
              "      <th>venue</th>\n",
              "      <th>umpire1</th>\n",
              "      <th>umpire2</th>\n",
              "      <th>umpire3</th>\n",
              "    </tr>\n",
              "  </thead>\n",
              "  <tbody>\n",
              "    <tr>\n",
              "      <th>0</th>\n",
              "      <td>1</td>\n",
              "      <td>IPL-2008</td>\n",
              "      <td>Bangalore</td>\n",
              "      <td>18-04-2008</td>\n",
              "      <td>KKR</td>\n",
              "      <td>RCB</td>\n",
              "      <td>RCB</td>\n",
              "      <td>field</td>\n",
              "      <td>normal</td>\n",
              "      <td>0</td>\n",
              "      <td>KKR</td>\n",
              "      <td>140</td>\n",
              "      <td>0</td>\n",
              "      <td>BB McCullum</td>\n",
              "      <td>M Chinnaswamy Stadium</td>\n",
              "      <td>Asad Rauf</td>\n",
              "      <td>RE Koertzen</td>\n",
              "      <td>NaN</td>\n",
              "    </tr>\n",
              "    <tr>\n",
              "      <th>1</th>\n",
              "      <td>2</td>\n",
              "      <td>IPL-2008</td>\n",
              "      <td>Chandigarh</td>\n",
              "      <td>19-04-2008</td>\n",
              "      <td>CSK</td>\n",
              "      <td>KXIP</td>\n",
              "      <td>CSK</td>\n",
              "      <td>bat</td>\n",
              "      <td>normal</td>\n",
              "      <td>0</td>\n",
              "      <td>CSK</td>\n",
              "      <td>33</td>\n",
              "      <td>0</td>\n",
              "      <td>MEK Hussey</td>\n",
              "      <td>Punjab Cricket Association Stadium, Mohali</td>\n",
              "      <td>MR Benson</td>\n",
              "      <td>SL Shastri</td>\n",
              "      <td>NaN</td>\n",
              "    </tr>\n",
              "    <tr>\n",
              "      <th>2</th>\n",
              "      <td>3</td>\n",
              "      <td>IPL-2008</td>\n",
              "      <td>Delhi</td>\n",
              "      <td>19-04-2008</td>\n",
              "      <td>RR</td>\n",
              "      <td>DD</td>\n",
              "      <td>RR</td>\n",
              "      <td>bat</td>\n",
              "      <td>normal</td>\n",
              "      <td>0</td>\n",
              "      <td>DD</td>\n",
              "      <td>0</td>\n",
              "      <td>9</td>\n",
              "      <td>MF Maharoof</td>\n",
              "      <td>Feroz Shah Kotla</td>\n",
              "      <td>Aleem Dar</td>\n",
              "      <td>GA Pratapkumar</td>\n",
              "      <td>NaN</td>\n",
              "    </tr>\n",
              "    <tr>\n",
              "      <th>3</th>\n",
              "      <td>4</td>\n",
              "      <td>IPL-2008</td>\n",
              "      <td>Mumbai</td>\n",
              "      <td>20-04-2008</td>\n",
              "      <td>MI</td>\n",
              "      <td>RCB</td>\n",
              "      <td>MI</td>\n",
              "      <td>bat</td>\n",
              "      <td>normal</td>\n",
              "      <td>0</td>\n",
              "      <td>RCB</td>\n",
              "      <td>0</td>\n",
              "      <td>5</td>\n",
              "      <td>MV Boucher</td>\n",
              "      <td>Wankhede Stadium</td>\n",
              "      <td>SJ Davis</td>\n",
              "      <td>DJ Harper</td>\n",
              "      <td>NaN</td>\n",
              "    </tr>\n",
              "    <tr>\n",
              "      <th>4</th>\n",
              "      <td>5</td>\n",
              "      <td>IPL-2008</td>\n",
              "      <td>Kolkata</td>\n",
              "      <td>20-04-2008</td>\n",
              "      <td>DC</td>\n",
              "      <td>KKR</td>\n",
              "      <td>DC</td>\n",
              "      <td>bat</td>\n",
              "      <td>normal</td>\n",
              "      <td>0</td>\n",
              "      <td>KKR</td>\n",
              "      <td>0</td>\n",
              "      <td>5</td>\n",
              "      <td>DJ Hussey</td>\n",
              "      <td>Eden Gardens</td>\n",
              "      <td>BF Bowden</td>\n",
              "      <td>K Hariharan</td>\n",
              "      <td>NaN</td>\n",
              "    </tr>\n",
              "  </tbody>\n",
              "</table>\n",
              "</div>"
            ],
            "text/plain": [
              "   Unnamed: 0    Season        city  ...    umpire1         umpire2 umpire3\n",
              "0           1  IPL-2008   Bangalore  ...  Asad Rauf     RE Koertzen     NaN\n",
              "1           2  IPL-2008  Chandigarh  ...  MR Benson      SL Shastri     NaN\n",
              "2           3  IPL-2008       Delhi  ...  Aleem Dar  GA Pratapkumar     NaN\n",
              "3           4  IPL-2008      Mumbai  ...   SJ Davis       DJ Harper     NaN\n",
              "4           5  IPL-2008     Kolkata  ...  BF Bowden     K Hariharan     NaN\n",
              "\n",
              "[5 rows x 18 columns]"
            ]
          },
          "metadata": {
            "tags": []
          },
          "execution_count": 10
        }
      ]
    },
    {
      "cell_type": "code",
      "metadata": {
        "id": "eetgUX5g4TTU",
        "colab": {
          "base_uri": "https://localhost:8080/",
          "height": 244
        },
        "outputId": "1899b2c0-0861-4d77-c9c6-1cdf8e0e0300"
      },
      "source": [
        "encode = {'team1': {'MI':1,'KKR':2,'RCB':3,'DC':4,'CSK':5,'RR':6,'DD':7,'GL':8,'KXIP':9,'SRH':10,'RPS':11,'KTK':12,'PW':13,'DCA':14},\n",
        "          'team2': {'MI':1,'KKR':2,'RCB':3,'DC':4,'CSK':5,'RR':6,'DD':7,'GL':8,'KXIP':9,'SRH':10,'RPS':11,'KTK':12,'PW':13,'DCA':14},\n",
        "          'toss_winner': {'MI':1,'KKR':2,'RCB':3,'DC':4,'CSK':5,'RR':6,'DD':7,'GL':8,'KXIP':9,'SRH':10,'RPS':11,'KTK':12,'PW':13,'DCA':14},\n",
        "          'winner': {'MI':1,'KKR':2,'RCB':3,'DC':4,'CSK':5,'RR':6,'DD':7,'GL':8,'KXIP':9,'SRH':10,'RPS':11,'KTK':12,'PW':13,'DCA':14,'Draw':15}}\n",
        "matches.replace(encode,inplace=True)\n",
        "matches.head(2)"
      ],
      "execution_count": 11,
      "outputs": [
        {
          "output_type": "execute_result",
          "data": {
            "text/html": [
              "<div>\n",
              "<style scoped>\n",
              "    .dataframe tbody tr th:only-of-type {\n",
              "        vertical-align: middle;\n",
              "    }\n",
              "\n",
              "    .dataframe tbody tr th {\n",
              "        vertical-align: top;\n",
              "    }\n",
              "\n",
              "    .dataframe thead th {\n",
              "        text-align: right;\n",
              "    }\n",
              "</style>\n",
              "<table border=\"1\" class=\"dataframe\">\n",
              "  <thead>\n",
              "    <tr style=\"text-align: right;\">\n",
              "      <th></th>\n",
              "      <th>Unnamed: 0</th>\n",
              "      <th>Season</th>\n",
              "      <th>city</th>\n",
              "      <th>date</th>\n",
              "      <th>team1</th>\n",
              "      <th>team2</th>\n",
              "      <th>toss_winner</th>\n",
              "      <th>toss_decision</th>\n",
              "      <th>result</th>\n",
              "      <th>dl_applied</th>\n",
              "      <th>winner</th>\n",
              "      <th>win_by_runs</th>\n",
              "      <th>win_by_wickets</th>\n",
              "      <th>player_of_match</th>\n",
              "      <th>venue</th>\n",
              "      <th>umpire1</th>\n",
              "      <th>umpire2</th>\n",
              "      <th>umpire3</th>\n",
              "    </tr>\n",
              "  </thead>\n",
              "  <tbody>\n",
              "    <tr>\n",
              "      <th>0</th>\n",
              "      <td>1</td>\n",
              "      <td>IPL-2008</td>\n",
              "      <td>Bangalore</td>\n",
              "      <td>18-04-2008</td>\n",
              "      <td>2</td>\n",
              "      <td>3</td>\n",
              "      <td>3</td>\n",
              "      <td>field</td>\n",
              "      <td>normal</td>\n",
              "      <td>0</td>\n",
              "      <td>2</td>\n",
              "      <td>140</td>\n",
              "      <td>0</td>\n",
              "      <td>BB McCullum</td>\n",
              "      <td>M Chinnaswamy Stadium</td>\n",
              "      <td>Asad Rauf</td>\n",
              "      <td>RE Koertzen</td>\n",
              "      <td>NaN</td>\n",
              "    </tr>\n",
              "    <tr>\n",
              "      <th>1</th>\n",
              "      <td>2</td>\n",
              "      <td>IPL-2008</td>\n",
              "      <td>Chandigarh</td>\n",
              "      <td>19-04-2008</td>\n",
              "      <td>5</td>\n",
              "      <td>9</td>\n",
              "      <td>5</td>\n",
              "      <td>bat</td>\n",
              "      <td>normal</td>\n",
              "      <td>0</td>\n",
              "      <td>5</td>\n",
              "      <td>33</td>\n",
              "      <td>0</td>\n",
              "      <td>MEK Hussey</td>\n",
              "      <td>Punjab Cricket Association Stadium, Mohali</td>\n",
              "      <td>MR Benson</td>\n",
              "      <td>SL Shastri</td>\n",
              "      <td>NaN</td>\n",
              "    </tr>\n",
              "  </tbody>\n",
              "</table>\n",
              "</div>"
            ],
            "text/plain": [
              "   Unnamed: 0    Season        city  ...    umpire1      umpire2  umpire3\n",
              "0           1  IPL-2008   Bangalore  ...  Asad Rauf  RE Koertzen      NaN\n",
              "1           2  IPL-2008  Chandigarh  ...  MR Benson   SL Shastri      NaN\n",
              "\n",
              "[2 rows x 18 columns]"
            ]
          },
          "metadata": {
            "tags": []
          },
          "execution_count": 11
        }
      ]
    },
    {
      "cell_type": "code",
      "metadata": {
        "id": "bdZGUfYk5A3b",
        "colab": {
          "base_uri": "https://localhost:8080/",
          "height": 644
        },
        "outputId": "db0ceffc-884b-4772-c76b-dc78ec135e98"
      },
      "source": [
        "matches[pd.isnull(matches['city'])]"
      ],
      "execution_count": 12,
      "outputs": [
        {
          "output_type": "execute_result",
          "data": {
            "text/html": [
              "<div>\n",
              "<style scoped>\n",
              "    .dataframe tbody tr th:only-of-type {\n",
              "        vertical-align: middle;\n",
              "    }\n",
              "\n",
              "    .dataframe tbody tr th {\n",
              "        vertical-align: top;\n",
              "    }\n",
              "\n",
              "    .dataframe thead th {\n",
              "        text-align: right;\n",
              "    }\n",
              "</style>\n",
              "<table border=\"1\" class=\"dataframe\">\n",
              "  <thead>\n",
              "    <tr style=\"text-align: right;\">\n",
              "      <th></th>\n",
              "      <th>Unnamed: 0</th>\n",
              "      <th>Season</th>\n",
              "      <th>city</th>\n",
              "      <th>date</th>\n",
              "      <th>team1</th>\n",
              "      <th>team2</th>\n",
              "      <th>toss_winner</th>\n",
              "      <th>toss_decision</th>\n",
              "      <th>result</th>\n",
              "      <th>dl_applied</th>\n",
              "      <th>winner</th>\n",
              "      <th>win_by_runs</th>\n",
              "      <th>win_by_wickets</th>\n",
              "      <th>player_of_match</th>\n",
              "      <th>venue</th>\n",
              "      <th>umpire1</th>\n",
              "      <th>umpire2</th>\n",
              "      <th>umpire3</th>\n",
              "    </tr>\n",
              "  </thead>\n",
              "  <tbody>\n",
              "    <tr>\n",
              "      <th>402</th>\n",
              "      <td>403</td>\n",
              "      <td>IPL-2014</td>\n",
              "      <td>NaN</td>\n",
              "      <td>19-04-2014</td>\n",
              "      <td>1</td>\n",
              "      <td>3</td>\n",
              "      <td>3</td>\n",
              "      <td>field</td>\n",
              "      <td>normal</td>\n",
              "      <td>0</td>\n",
              "      <td>3</td>\n",
              "      <td>0</td>\n",
              "      <td>7</td>\n",
              "      <td>PA Patel</td>\n",
              "      <td>Dubai International Cricket Stadium</td>\n",
              "      <td>Aleem Dar</td>\n",
              "      <td>AK Chaudhary</td>\n",
              "      <td>NaN</td>\n",
              "    </tr>\n",
              "    <tr>\n",
              "      <th>403</th>\n",
              "      <td>404</td>\n",
              "      <td>IPL-2014</td>\n",
              "      <td>NaN</td>\n",
              "      <td>19-04-2014</td>\n",
              "      <td>2</td>\n",
              "      <td>7</td>\n",
              "      <td>2</td>\n",
              "      <td>bat</td>\n",
              "      <td>normal</td>\n",
              "      <td>0</td>\n",
              "      <td>7</td>\n",
              "      <td>0</td>\n",
              "      <td>4</td>\n",
              "      <td>JP Duminy</td>\n",
              "      <td>Dubai International Cricket Stadium</td>\n",
              "      <td>Aleem Dar</td>\n",
              "      <td>VA Kulkarni</td>\n",
              "      <td>NaN</td>\n",
              "    </tr>\n",
              "    <tr>\n",
              "      <th>407</th>\n",
              "      <td>408</td>\n",
              "      <td>IPL-2014</td>\n",
              "      <td>NaN</td>\n",
              "      <td>23-04-2014</td>\n",
              "      <td>5</td>\n",
              "      <td>6</td>\n",
              "      <td>6</td>\n",
              "      <td>field</td>\n",
              "      <td>normal</td>\n",
              "      <td>0</td>\n",
              "      <td>5</td>\n",
              "      <td>7</td>\n",
              "      <td>0</td>\n",
              "      <td>RA Jadeja</td>\n",
              "      <td>Dubai International Cricket Stadium</td>\n",
              "      <td>HDPK Dharmasena</td>\n",
              "      <td>RK Illingworth</td>\n",
              "      <td>NaN</td>\n",
              "    </tr>\n",
              "    <tr>\n",
              "      <th>409</th>\n",
              "      <td>410</td>\n",
              "      <td>IPL-2014</td>\n",
              "      <td>NaN</td>\n",
              "      <td>25-04-2014</td>\n",
              "      <td>10</td>\n",
              "      <td>7</td>\n",
              "      <td>10</td>\n",
              "      <td>bat</td>\n",
              "      <td>normal</td>\n",
              "      <td>0</td>\n",
              "      <td>10</td>\n",
              "      <td>4</td>\n",
              "      <td>0</td>\n",
              "      <td>AJ Finch</td>\n",
              "      <td>Dubai International Cricket Stadium</td>\n",
              "      <td>M Erasmus</td>\n",
              "      <td>S Ravi</td>\n",
              "      <td>NaN</td>\n",
              "    </tr>\n",
              "    <tr>\n",
              "      <th>410</th>\n",
              "      <td>411</td>\n",
              "      <td>IPL-2014</td>\n",
              "      <td>NaN</td>\n",
              "      <td>25-04-2014</td>\n",
              "      <td>1</td>\n",
              "      <td>5</td>\n",
              "      <td>1</td>\n",
              "      <td>bat</td>\n",
              "      <td>normal</td>\n",
              "      <td>0</td>\n",
              "      <td>5</td>\n",
              "      <td>0</td>\n",
              "      <td>7</td>\n",
              "      <td>MM Sharma</td>\n",
              "      <td>Dubai International Cricket Stadium</td>\n",
              "      <td>BF Bowden</td>\n",
              "      <td>M Erasmus</td>\n",
              "      <td>NaN</td>\n",
              "    </tr>\n",
              "    <tr>\n",
              "      <th>415</th>\n",
              "      <td>416</td>\n",
              "      <td>IPL-2014</td>\n",
              "      <td>NaN</td>\n",
              "      <td>28-04-2014</td>\n",
              "      <td>3</td>\n",
              "      <td>9</td>\n",
              "      <td>9</td>\n",
              "      <td>field</td>\n",
              "      <td>normal</td>\n",
              "      <td>0</td>\n",
              "      <td>9</td>\n",
              "      <td>0</td>\n",
              "      <td>5</td>\n",
              "      <td>Sandeep Sharma</td>\n",
              "      <td>Dubai International Cricket Stadium</td>\n",
              "      <td>BF Bowden</td>\n",
              "      <td>S Ravi</td>\n",
              "      <td>NaN</td>\n",
              "    </tr>\n",
              "    <tr>\n",
              "      <th>417</th>\n",
              "      <td>418</td>\n",
              "      <td>IPL-2014</td>\n",
              "      <td>NaN</td>\n",
              "      <td>30-04-2014</td>\n",
              "      <td>10</td>\n",
              "      <td>1</td>\n",
              "      <td>1</td>\n",
              "      <td>field</td>\n",
              "      <td>normal</td>\n",
              "      <td>0</td>\n",
              "      <td>10</td>\n",
              "      <td>15</td>\n",
              "      <td>0</td>\n",
              "      <td>B Kumar</td>\n",
              "      <td>Dubai International Cricket Stadium</td>\n",
              "      <td>HDPK Dharmasena</td>\n",
              "      <td>M Erasmus</td>\n",
              "      <td>NaN</td>\n",
              "    </tr>\n",
              "  </tbody>\n",
              "</table>\n",
              "</div>"
            ],
            "text/plain": [
              "     Unnamed: 0    Season city  ...          umpire1         umpire2  umpire3\n",
              "402         403  IPL-2014  NaN  ...        Aleem Dar    AK Chaudhary      NaN\n",
              "403         404  IPL-2014  NaN  ...        Aleem Dar     VA Kulkarni      NaN\n",
              "407         408  IPL-2014  NaN  ...  HDPK Dharmasena  RK Illingworth      NaN\n",
              "409         410  IPL-2014  NaN  ...        M Erasmus          S Ravi      NaN\n",
              "410         411  IPL-2014  NaN  ...        BF Bowden       M Erasmus      NaN\n",
              "415         416  IPL-2014  NaN  ...        BF Bowden          S Ravi      NaN\n",
              "417         418  IPL-2014  NaN  ...  HDPK Dharmasena       M Erasmus      NaN\n",
              "\n",
              "[7 rows x 18 columns]"
            ]
          },
          "metadata": {
            "tags": []
          },
          "execution_count": 12
        }
      ]
    },
    {
      "cell_type": "code",
      "metadata": {
        "id": "KoOOJqRO5HbB",
        "colab": {
          "base_uri": "https://localhost:8080/"
        },
        "outputId": "34d46594-dd6f-4a91-d0e7-801d5c1ef7c6"
      },
      "source": [
        "matches['city'].fillna('Dubai',inplace=True)\n",
        "matches.describe()\n",
        "matches.info()"
      ],
      "execution_count": 13,
      "outputs": [
        {
          "output_type": "stream",
          "text": [
            "<class 'pandas.core.frame.DataFrame'>\n",
            "RangeIndex: 756 entries, 0 to 755\n",
            "Data columns (total 18 columns):\n",
            " #   Column           Non-Null Count  Dtype \n",
            "---  ------           --------------  ----- \n",
            " 0   Unnamed: 0       756 non-null    int64 \n",
            " 1   Season           756 non-null    object\n",
            " 2   city             756 non-null    object\n",
            " 3   date             756 non-null    object\n",
            " 4   team1            756 non-null    int64 \n",
            " 5   team2            756 non-null    int64 \n",
            " 6   toss_winner      756 non-null    int64 \n",
            " 7   toss_decision    756 non-null    object\n",
            " 8   result           756 non-null    object\n",
            " 9   dl_applied       756 non-null    int64 \n",
            " 10  winner           756 non-null    int64 \n",
            " 11  win_by_runs      756 non-null    int64 \n",
            " 12  win_by_wickets   756 non-null    int64 \n",
            " 13  player_of_match  752 non-null    object\n",
            " 14  venue            756 non-null    object\n",
            " 15  umpire1          754 non-null    object\n",
            " 16  umpire2          754 non-null    object\n",
            " 17  umpire3          79 non-null     object\n",
            "dtypes: int64(8), object(10)\n",
            "memory usage: 106.4+ KB\n"
          ],
          "name": "stdout"
        }
      ]
    },
    {
      "cell_type": "code",
      "metadata": {
        "id": "v4ss0LH95OMf",
        "colab": {
          "base_uri": "https://localhost:8080/"
        },
        "outputId": "585af352-d2cb-4b94-b843-13ba79f0b931"
      },
      "source": [
        "xx=matches.groupby([\"toss_winner\"]).size()\n",
        "print(xx._get_value(5))\n",
        "yy=matches.groupby([\"winner\"]).size()\n",
        "print(yy._get_value(5))"
      ],
      "execution_count": 14,
      "outputs": [
        {
          "output_type": "stream",
          "text": [
            "89\n",
            "100\n"
          ],
          "name": "stdout"
        }
      ]
    },
    {
      "cell_type": "code",
      "metadata": {
        "id": "uAUCRp0M5UpT",
        "colab": {
          "base_uri": "https://localhost:8080/"
        },
        "outputId": "82831519-0f35-4e9a-b7af-1e3a36815ec8"
      },
      "source": [
        "Value=encode['winner']\n",
        "print(Value['CSK'])\n",
        "print(list(Value.keys())\n",
        "[list(Value.values()).index(5)])"
      ],
      "execution_count": 15,
      "outputs": [
        {
          "output_type": "stream",
          "text": [
            "5\n",
            "CSK\n"
          ],
          "name": "stdout"
        }
      ]
    },
    {
      "cell_type": "code",
      "metadata": {
        "id": "A8EV5TiuMWUG",
        "colab": {
          "base_uri": "https://localhost:8080/",
          "height": 106
        },
        "outputId": "90518550-714c-4728-9209-70811f844428"
      },
      "source": [
        "matches = matches[['team1','team2','city','toss_decision','toss_winner','venue','winner']]\n",
        "matches.head(2)"
      ],
      "execution_count": 16,
      "outputs": [
        {
          "output_type": "execute_result",
          "data": {
            "text/html": [
              "<div>\n",
              "<style scoped>\n",
              "    .dataframe tbody tr th:only-of-type {\n",
              "        vertical-align: middle;\n",
              "    }\n",
              "\n",
              "    .dataframe tbody tr th {\n",
              "        vertical-align: top;\n",
              "    }\n",
              "\n",
              "    .dataframe thead th {\n",
              "        text-align: right;\n",
              "    }\n",
              "</style>\n",
              "<table border=\"1\" class=\"dataframe\">\n",
              "  <thead>\n",
              "    <tr style=\"text-align: right;\">\n",
              "      <th></th>\n",
              "      <th>team1</th>\n",
              "      <th>team2</th>\n",
              "      <th>city</th>\n",
              "      <th>toss_decision</th>\n",
              "      <th>toss_winner</th>\n",
              "      <th>venue</th>\n",
              "      <th>winner</th>\n",
              "    </tr>\n",
              "  </thead>\n",
              "  <tbody>\n",
              "    <tr>\n",
              "      <th>0</th>\n",
              "      <td>2</td>\n",
              "      <td>3</td>\n",
              "      <td>Bangalore</td>\n",
              "      <td>field</td>\n",
              "      <td>3</td>\n",
              "      <td>M Chinnaswamy Stadium</td>\n",
              "      <td>2</td>\n",
              "    </tr>\n",
              "    <tr>\n",
              "      <th>1</th>\n",
              "      <td>5</td>\n",
              "      <td>9</td>\n",
              "      <td>Chandigarh</td>\n",
              "      <td>bat</td>\n",
              "      <td>5</td>\n",
              "      <td>Punjab Cricket Association Stadium, Mohali</td>\n",
              "      <td>5</td>\n",
              "    </tr>\n",
              "  </tbody>\n",
              "</table>\n",
              "</div>"
            ],
            "text/plain": [
              "   team1  team2  ...                                       venue winner\n",
              "0      2      3  ...                       M Chinnaswamy Stadium      2\n",
              "1      5      9  ...  Punjab Cricket Association Stadium, Mohali      5\n",
              "\n",
              "[2 rows x 7 columns]"
            ]
          },
          "metadata": {
            "tags": []
          },
          "execution_count": 16
        }
      ]
    },
    {
      "cell_type": "code",
      "metadata": {
        "id": "IDEMnflxNR09",
        "colab": {
          "base_uri": "https://localhost:8080/",
          "height": 284
        },
        "outputId": "e169e296-74cd-4c47-c5de-117ded25893e"
      },
      "source": [
        "df=pd.DataFrame(matches)\n",
        "df.describe()\n"
      ],
      "execution_count": 17,
      "outputs": [
        {
          "output_type": "execute_result",
          "data": {
            "text/html": [
              "<div>\n",
              "<style scoped>\n",
              "    .dataframe tbody tr th:only-of-type {\n",
              "        vertical-align: middle;\n",
              "    }\n",
              "\n",
              "    .dataframe tbody tr th {\n",
              "        vertical-align: top;\n",
              "    }\n",
              "\n",
              "    .dataframe thead th {\n",
              "        text-align: right;\n",
              "    }\n",
              "</style>\n",
              "<table border=\"1\" class=\"dataframe\">\n",
              "  <thead>\n",
              "    <tr style=\"text-align: right;\">\n",
              "      <th></th>\n",
              "      <th>team1</th>\n",
              "      <th>team2</th>\n",
              "      <th>toss_winner</th>\n",
              "      <th>winner</th>\n",
              "    </tr>\n",
              "  </thead>\n",
              "  <tbody>\n",
              "    <tr>\n",
              "      <th>count</th>\n",
              "      <td>756.000000</td>\n",
              "      <td>756.000000</td>\n",
              "      <td>756.000000</td>\n",
              "      <td>756.000000</td>\n",
              "    </tr>\n",
              "    <tr>\n",
              "      <th>mean</th>\n",
              "      <td>5.554233</td>\n",
              "      <td>5.604497</td>\n",
              "      <td>5.462963</td>\n",
              "      <td>5.416667</td>\n",
              "    </tr>\n",
              "    <tr>\n",
              "      <th>std</th>\n",
              "      <td>3.389656</td>\n",
              "      <td>3.411850</td>\n",
              "      <td>3.361638</td>\n",
              "      <td>3.421736</td>\n",
              "    </tr>\n",
              "    <tr>\n",
              "      <th>min</th>\n",
              "      <td>1.000000</td>\n",
              "      <td>1.000000</td>\n",
              "      <td>1.000000</td>\n",
              "      <td>1.000000</td>\n",
              "    </tr>\n",
              "    <tr>\n",
              "      <th>25%</th>\n",
              "      <td>3.000000</td>\n",
              "      <td>3.000000</td>\n",
              "      <td>2.000000</td>\n",
              "      <td>2.000000</td>\n",
              "    </tr>\n",
              "    <tr>\n",
              "      <th>50%</th>\n",
              "      <td>5.000000</td>\n",
              "      <td>5.000000</td>\n",
              "      <td>5.000000</td>\n",
              "      <td>5.000000</td>\n",
              "    </tr>\n",
              "    <tr>\n",
              "      <th>75%</th>\n",
              "      <td>9.000000</td>\n",
              "      <td>8.000000</td>\n",
              "      <td>8.000000</td>\n",
              "      <td>8.000000</td>\n",
              "    </tr>\n",
              "    <tr>\n",
              "      <th>max</th>\n",
              "      <td>14.000000</td>\n",
              "      <td>14.000000</td>\n",
              "      <td>14.000000</td>\n",
              "      <td>15.000000</td>\n",
              "    </tr>\n",
              "  </tbody>\n",
              "</table>\n",
              "</div>"
            ],
            "text/plain": [
              "            team1       team2  toss_winner      winner\n",
              "count  756.000000  756.000000   756.000000  756.000000\n",
              "mean     5.554233    5.604497     5.462963    5.416667\n",
              "std      3.389656    3.411850     3.361638    3.421736\n",
              "min      1.000000    1.000000     1.000000    1.000000\n",
              "25%      3.000000    3.000000     2.000000    2.000000\n",
              "50%      5.000000    5.000000     5.000000    5.000000\n",
              "75%      9.000000    8.000000     8.000000    8.000000\n",
              "max     14.000000   14.000000    14.000000   15.000000"
            ]
          },
          "metadata": {
            "tags": []
          },
          "execution_count": 17
        }
      ]
    },
    {
      "cell_type": "code",
      "metadata": {
        "id": "Tdfh5paVN5in",
        "colab": {
          "base_uri": "https://localhost:8080/"
        },
        "outputId": "923e26b2-d096-42ec-caf6-18c14dbb243e"
      },
      "source": [
        "df[\"city\"].unique()"
      ],
      "execution_count": 18,
      "outputs": [
        {
          "output_type": "execute_result",
          "data": {
            "text/plain": [
              "array(['Bangalore', 'Chandigarh', 'Delhi', 'Mumbai', 'Kolkata', 'Jaipur',\n",
              "       'Hyderabad', 'Chennai', 'Cape Town', 'Port Elizabeth', 'Durban',\n",
              "       'Centurion', 'East London', 'Johannesburg', 'Kimberley',\n",
              "       'Bloemfontein', 'Ahmedabad', 'Cuttack', 'Nagpur', 'Dharamsala',\n",
              "       'Kochi', 'Indore', 'Visakhapatnam', 'Pune', 'Raipur', 'Ranchi',\n",
              "       'Abu Dhabi', 'Sharjah', 'Dubai', 'Rajkot', 'Kanpur', 'Mohali',\n",
              "       'Bengaluru'], dtype=object)"
            ]
          },
          "metadata": {
            "tags": []
          },
          "execution_count": 18
        }
      ]
    },
    {
      "cell_type": "code",
      "metadata": {
        "id": "2Nkn9GFP8Avu",
        "colab": {
          "base_uri": "https://localhost:8080/"
        },
        "outputId": "73b8c5a4-7b31-47c3-adb9-e268e35f1ddc"
      },
      "source": [
        "df[\"venue\"].unique()"
      ],
      "execution_count": 19,
      "outputs": [
        {
          "output_type": "execute_result",
          "data": {
            "text/plain": [
              "array(['M Chinnaswamy Stadium',\n",
              "       'Punjab Cricket Association Stadium, Mohali', 'Feroz Shah Kotla',\n",
              "       'Wankhede Stadium', 'Eden Gardens', 'Sawai Mansingh Stadium',\n",
              "       'Rajiv Gandhi International Stadium, Uppal',\n",
              "       'MA Chidambaram Stadium, Chepauk', 'Dr DY Patil Sports Academy',\n",
              "       'Newlands', \"St George's Park\", 'Kingsmead', 'SuperSport Park',\n",
              "       'Buffalo Park', 'New Wanderers Stadium', 'De Beers Diamond Oval',\n",
              "       'OUTsurance Oval', 'Brabourne Stadium',\n",
              "       'Sardar Patel Stadium, Motera', 'Barabati Stadium',\n",
              "       'Vidarbha Cricket Association Stadium, Jamtha',\n",
              "       'Himachal Pradesh Cricket Association Stadium', 'Nehru Stadium',\n",
              "       'Holkar Cricket Stadium',\n",
              "       'Dr. Y.S. Rajasekhara Reddy ACA-VDCA Cricket Stadium',\n",
              "       'Subrata Roy Sahara Stadium',\n",
              "       'Shaheed Veer Narayan Singh International Stadium',\n",
              "       'JSCA International Stadium Complex', 'Sheikh Zayed Stadium',\n",
              "       'Sharjah Cricket Stadium', 'Dubai International Cricket Stadium',\n",
              "       'Maharashtra Cricket Association Stadium',\n",
              "       'Punjab Cricket Association IS Bindra Stadium, Mohali',\n",
              "       'Saurashtra Cricket Association Stadium', 'Green Park',\n",
              "       'M. A. Chidambaram Stadium', 'Feroz Shah Kotla Ground',\n",
              "       'M. Chinnaswamy Stadium', 'Rajiv Gandhi Intl. Cricket Stadium',\n",
              "       'IS Bindra Stadium', 'ACA-VDCA Stadium'], dtype=object)"
            ]
          },
          "metadata": {
            "tags": []
          },
          "execution_count": 19
        }
      ]
    },
    {
      "cell_type": "code",
      "metadata": {
        "id": "it6ux64T8Myj",
        "colab": {
          "base_uri": "https://localhost:8080/",
          "height": 294
        },
        "outputId": "e07bd42d-5dbd-44eb-ee61-a320c4b4d6be"
      },
      "source": [
        "matches.toss_decision.value_counts().plot(kind='bar')"
      ],
      "execution_count": 20,
      "outputs": [
        {
          "output_type": "execute_result",
          "data": {
            "text/plain": [
              "<matplotlib.axes._subplots.AxesSubplot at 0x7f6a83036a20>"
            ]
          },
          "metadata": {
            "tags": []
          },
          "execution_count": 20
        },
        {
          "output_type": "display_data",
          "data": {
            "image/png": "[encoded data removed]",
            "text/plain": [
              "<Figure size 432x288 with 1 Axes>"
            ]
          },
          "metadata": {
            "tags": [],
            "needs_background": "light"
          }
        }
      ]
    },
    {
      "cell_type": "code",
      "metadata": {
        "id": "MztNt_4q9XWF",
        "colab": {
          "base_uri": "https://localhost:8080/"
        },
        "outputId": "bcaf9bcf-375b-4468-a6e4-2760a6bb11fc"
      },
      "source": [
        "cat_list=df[\"city\"]\n",
        "encoded_data, mapping_index = pd.Series(cat_list).factorize()\n",
        "print(encoded_data)\n",
        "print(mapping_index)\n",
        "print(mapping_index.get_loc(\"Pune\"))"
      ],
      "execution_count": 21,
      "outputs": [
        {
          "output_type": "stream",
          "text": [
            "[ 0  1  2  3  4  5  6  7  6  1  0  7  3  1  0  4  2  6  5  7  6  1  3  5\n",
            "  0  7  3  2  4  5  0  7  6  5  1  4  3  1  2  3  2  5  6  4  0  4  3  7\n",
            "  1  2  7  0  4  5  6  3  3  3  8  8  8  8  9 10  8 10  8 10 10  9  8 10\n",
            "  9 11 10 10 11 11 12 10  9 13  9 13 12 10 10 11 11 11 12 14 14  9 13 14\n",
            " 11 11 10 10 10 15  9 13 13 15 11 13 10 10 11 11 11 13 13  3  3  1  4  7\n",
            " 16  0  4  2  0  2 17 16  3 17  7  3  0  1  3 16  1  0 16  3  2  3  7  2\n",
            "  4  1  7  3  4  2 18  7  5  4  0  1 18  0  2  5 18  3  7  5  7 19  0  4\n",
            " 19  2  4  3  3  3  3  7  6 20  2  3  4  5  0  1  3  6  5  3  7  6  3  4\n",
            " 20  2  3  4  1  3  4  2  6  5  7  2  3 20  2  5  0 20  4  5  7  3  2  6\n",
            "  7  3 20  6  0  4  3  0  1  5  6  1  5  7 21  0  3 19 21  3 19  7  3  3\n",
            " 19  2  0  4  3  3  7  7  7  4  3  5  0 22  5 23 22  0  2  3  7  1  4  2\n",
            " 23  4  0  3  5  0  1  6  7  1  7  2  3 17  5 23  1 23  2  7  4  2  3  7\n",
            " 17  5  0 23  7  4  1  3  0  2 23  6  3  5 23  4  7  5  1  0  4  2  3 19\n",
            "  2  6 19 23  6  5 23  0  7  7  4  0  6  2  7 23  6  5  3  1  0 23  2  3\n",
            "  7  4  5  7  1  0 23  5  2  6  4  0  2  1  7  0 19  4  7  4  5  3  7 24\n",
            "  5  3 23  6 24  7 23  4  6  0  3  5  0  5  3  6  1 23  2 23  1 25  5  2\n",
            "  3 25  7  3  1  6 19 23  0  6  2  2  4  4 26 27 26 26 28 28 27 26 27 28\n",
            " 27 28 28 26 26 27 27 28 26 28 25  3  2  0 16  2  3  2 17 16  0  2  3 17\n",
            "  0  6 25  0  6 17 16 25  6 16  2  6  4  1  4 25  3  1  0  4  1  3  4  3\n",
            "  3  0  4  7 23  7  4  2  3  0 16  4 23 22  3 22 23 16  0  2 16 22  0  2\n",
            " 16  3  7  2  1  4  0  7  2  3  0  6  1  3  7  4  3  0  3  7  4 24  3  7\n",
            "  6 24  1  3  6  1  3  0  6  3 23 25  4  3  4  1  0  4 29  2  6  3  1  0\n",
            "  6  1  3 29 23  2  6 29 23  1  6  2  3 23  2  6 29 23  0 29  4  2  6  0\n",
            "  1 22  4  1 22  0  6 22  0  4  1 22  4 22  0 30 24 22 30  4 24  0  2  2\n",
            "  0  6 23 29 21  0  6  3 21 23  3  4  0 29  4  2  3  0  2  6 29  6 21  4\n",
            "  3 23 29  4  3 23  0  4  1 23 29  1  6  3 23  2  4  2  0  6  2  0  1  6\n",
            "  1 30  3  2 30  4 23  2  3  0  0  6  3 31  4  6  7  5  6 32  3  4 32 31\n",
            "  4  3  5 31 23  4 32  6  5  2  3 32  6  2 23  5 32 23 32  2  4 21 23  6\n",
            "  3 21  6  5  4  2  5 21  2 23  3 21  4  3 32  2  5  6  2 23  3  4  4  3\n",
            "  7  4  3  5  2  4 32  6 31  2  6  7 31  5  3  2 32  7  6 32  5 31  7  3\n",
            "  5  4  3 31  4  6  3 31  6  2  4  5  2  6 32  5  7 32  4  7  5  2  4  6\n",
            " 32  7  3 31  2 32 31  3  7 22 22  6]\n",
            "Index(['Bangalore', 'Chandigarh', 'Delhi', 'Mumbai', 'Kolkata', 'Jaipur',\n",
            "       'Hyderabad', 'Chennai', 'Cape Town', 'Port Elizabeth', 'Durban',\n",
            "       'Centurion', 'East London', 'Johannesburg', 'Kimberley', 'Bloemfontein',\n",
            "       'Ahmedabad', 'Cuttack', 'Nagpur', 'Dharamsala', 'Kochi', 'Indore',\n",
            "       'Visakhapatnam', 'Pune', 'Raipur', 'Ranchi', 'Abu Dhabi', 'Sharjah',\n",
            "       'Dubai', 'Rajkot', 'Kanpur', 'Mohali', 'Bengaluru'],\n",
            "      dtype='object')\n",
            "23\n"
          ],
          "name": "stdout"
        }
      ]
    },
    {
      "cell_type": "code",
      "metadata": {
        "id": "Qivd5bdP_oes",
        "colab": {
          "base_uri": "https://localhost:8080/"
        },
        "outputId": "90772c22-8410-4015-a1b0-06b55210d956"
      },
      "source": [
        "cat_list1=df[\"venue\"]\n",
        "encoded_data1, mapping_index1 = pd.Series(cat_list1).factorize()\n",
        "print(encoded_data1)\n",
        "print(mapping_index1)\n",
        "print(mapping_index1.get_loc(\"Rajiv Gandhi Intl. Cricket Stadium\"))"
      ],
      "execution_count": 22,
      "outputs": [
        {
          "output_type": "stream",
          "text": [
            "[ 0  1  2  3  4  5  6  7  6  1  0  7  8  1  0  4  2  6  5  7  6  1  8  5\n",
            "  0  7  8  2  4  5  0  7  6  5  1  4  3  1  2  3  2  5  6  4  0  4  3  7\n",
            "  1  2  7  0  4  5  6  3  3  8  9  9  9  9 10 11  9 11  9 11 11 10  9 11\n",
            " 10 12 11 11 12 12 13 11 10 14 10 14 13 11 11 12 12 12 13 15 15 10 14 15\n",
            " 12 12 11 11 11 16 10 14 14 16 12 14 11 11 12 12 12 14 14  8 17  1  4  7\n",
            " 18  0  4  2  0  2 19 18 17 19  7 17  0  1 17 18  1  0 18  8  2 17  7  2\n",
            "  4  1  7 17  4  2 20  7  5  4  0  1 20  0  2  5 20 17  7  5  7 21  0  4\n",
            " 21  2  4  8  8  8  8  7  6 22  2  8  4  5  0  1  8  6  5  3  7  6  8  4\n",
            " 22  2  3  4  1  3  4  2  6  5  7  2  8 22  2  5  0 22  4  5  7  3  2  6\n",
            "  7  8 22  6  0  4  3  0  1  5  6  1  5  7 23  0  3 21 23  8 21  7  8  3\n",
            " 21  2  0  4  3  3  7  7  7  4  3  5  0 24  5 25 24  0  2  3  7  1  4  2\n",
            " 25  4  0  3  5  0  1  6  7  1  7  2  3 19  5 25  1 25  2  7  4  2  3  7\n",
            " 19  5  0 25  7  4  1  3  0  2 25  6  3  5 25  4  7  5  1  0  4  2  3 21\n",
            "  2  6 21 25  6  5 25  0  7  7  4  0  6  2  7 25  6  5  3  1  0 25  2  3\n",
            "  7  4  5  7  1  0 25  5  2  6  4  0  2  1  7  0 21  4  7  4  5  3  7 26\n",
            "  5  3 25  6 26  7 25  4  6  0  3  5  0  5  3  6  1 25  2 25  1 27  5  2\n",
            "  3 27  7  3  1  6 21 25  0  6  2  2  4  4 28 29 28 28 30 30 29 28 29 30\n",
            " 29 30 30 28 28 29 29 30 28 30 27  3  2  0 18  2  3  2 19 18  0  2  3 19\n",
            "  0  6 27  0  6 19 18 27  6 18  2  6  4  1  4 27  3  1  0  4  1  3  4 17\n",
            "  3  0  4  7 31  7  4  2  3  0 18  4 31 24  3 24 31 18  0  2 18 24  0  2\n",
            " 18  3  7  2  1  4  0  7  2  3  0  6  1 17  7  4  3  0 17  7  4 26  3  7\n",
            "  6 26  1  3  6  1 17  0  6  3 31 27  4  3  4 32  0  4 33  2  6  3 32  0\n",
            "  6 32  3 33 31  2  6 33 31 32  6  2  3 31  2  6 33 31  0 33  4  2  6  0\n",
            " 32 24  4 32 24  0  6 24  0  4 32 24  4 24  0 34 26 24 34  4 26  0  2  2\n",
            "  0  6 31 33 23  0  6  3 23 31  3  4  0 33  4  2  3  0  2  6 33  6 23  4\n",
            "  3 31 33  4  3 31  0  4 32 31 33 32  6  3 31  2  4  2  0  6  2  0 32  6\n",
            " 32 34  3  2 34  4 31  2  3  0  0  6  3 32  4  6  7  5  6  0  3  4  0 32\n",
            "  4  3  5 32 31  4  0  6  5  2  3  0  6  2 31  5  0 31  0  2  4 23 31  6\n",
            "  3 23  6  5  4  2  5 23  2 31  3 23  4  3  0  2  5  6  2 31  3  4  4  3\n",
            " 35  4  3  5 36  4 37 38 39 36 38 35 39  5  3 36 37 35 38 37  5 39 35  3\n",
            "  5  4  3 39  4 38  3 39 38 36  4  5 36 38 37  5 35 37  4 35  5 36  4 38\n",
            " 37 35  3 39 36 37 39  3 35 40 40 38]\n",
            "Index(['M Chinnaswamy Stadium', 'Punjab Cricket Association Stadium, Mohali',\n",
            "       'Feroz Shah Kotla', 'Wankhede Stadium', 'Eden Gardens',\n",
            "       'Sawai Mansingh Stadium', 'Rajiv Gandhi International Stadium, Uppal',\n",
            "       'MA Chidambaram Stadium, Chepauk', 'Dr DY Patil Sports Academy',\n",
            "       'Newlands', 'St George's Park', 'Kingsmead', 'SuperSport Park',\n",
            "       'Buffalo Park', 'New Wanderers Stadium', 'De Beers Diamond Oval',\n",
            "       'OUTsurance Oval', 'Brabourne Stadium', 'Sardar Patel Stadium, Motera',\n",
            "       'Barabati Stadium', 'Vidarbha Cricket Association Stadium, Jamtha',\n",
            "       'Himachal Pradesh Cricket Association Stadium', 'Nehru Stadium',\n",
            "       'Holkar Cricket Stadium',\n",
            "       'Dr. Y.S. Rajasekhara Reddy ACA-VDCA Cricket Stadium',\n",
            "       'Subrata Roy Sahara Stadium',\n",
            "       'Shaheed Veer Narayan Singh International Stadium',\n",
            "       'JSCA International Stadium Complex', 'Sheikh Zayed Stadium',\n",
            "       'Sharjah Cricket Stadium', 'Dubai International Cricket Stadium',\n",
            "       'Maharashtra Cricket Association Stadium',\n",
            "       'Punjab Cricket Association IS Bindra Stadium, Mohali',\n",
            "       'Saurashtra Cricket Association Stadium', 'Green Park',\n",
            "       'M. A. Chidambaram Stadium', 'Feroz Shah Kotla Ground',\n",
            "       'M. Chinnaswamy Stadium', 'Rajiv Gandhi Intl. Cricket Stadium',\n",
            "       'IS Bindra Stadium', 'ACA-VDCA Stadium'],\n",
            "      dtype='object')\n",
            "38\n"
          ],
          "name": "stdout"
        }
      ]
    },
    {
      "cell_type": "code",
      "metadata": {
        "id": "n98tKk2NDSNa",
        "colab": {
          "base_uri": "https://localhost:8080/"
        },
        "outputId": "2a0123b7-d1b5-4840-e52f-6b88d165a642"
      },
      "source": [
        "cat_list2=df[\"toss_decision\"]\n",
        "encoded_data2, mapping_index2 = pd.Series(cat_list2).factorize()\n",
        "print(encoded_data2)\n",
        "print(mapping_index2)\n",
        "print(mapping_index2.get_loc(\"field\"))"
      ],
      "execution_count": 23,
      "outputs": [
        {
          "output_type": "stream",
          "text": [
            "[0 1 1 1 1 1 1 0 0 0 0 1 0 1 1 1 0 0 1 1 1 1 0 1 0 0 0 0 1 0 0 0 1 0 1 1 0\n",
            " 0 0 0 1 0 0 1 0 0 0 1 0 0 1 0 1 0 1 0 1 0 0 1 0 1 1 0 1 1 0 1 1 1 1 0 1 1\n",
            " 1 1 0 0 1 1 1 0 1 1 1 0 1 1 0 1 1 0 1 1 0 1 0 1 0 1 1 0 1 0 0 1 1 1 0 1 0\n",
            " 1 0 0 0 0 1 0 0 1 0 1 1 0 0 1 0 1 1 1 0 1 0 0 0 1 1 0 1 0 1 0 1 1 1 1 1 1\n",
            " 1 1 1 1 1 1 0 1 1 0 1 0 0 1 1 1 1 0 0 1 0 1 1 1 1 1 1 1 0 1 1 1 1 1 0 0 1\n",
            " 0 0 0 1 0 0 0 0 1 1 0 0 0 0 0 0 0 0 0 1 0 0 0 0 1 0 0 1 0 0 0 1 0 0 0 0 1\n",
            " 0 1 1 0 1 0 0 1 0 0 1 0 0 0 1 1 0 1 0 1 0 0 0 0 0 1 0 0 0 0 0 0 0 1 1 0 0\n",
            " 0 1 0 1 1 1 0 1 0 1 1 1 1 0 0 1 0 1 0 0 1 1 1 0 1 1 1 0 1 1 1 0 1 1 1 1 0\n",
            " 0 1 1 0 0 0 0 1 0 1 1 0 0 1 0 0 0 1 0 1 0 1 1 0 0 1 0 0 0 1 1 1 1 0 1 0 0\n",
            " 1 1 1 0 1 0 1 0 0 0 1 1 1 1 0 1 0 1 0 0 1 1 1 1 1 0 0 0 1 1 1 1 1 1 1 1 0\n",
            " 1 1 1 1 1 0 0 1 0 1 0 0 0 0 1 0 1 0 0 1 0 1 0 1 1 1 1 1 1 0 1 0 0 1 0 1 0\n",
            " 0 0 1 1 0 0 1 1 0 1 0 1 1 0 0 0 0 0 1 0 0 0 0 0 0 1 1 1 0 0 0 0 1 1 1 0 1\n",
            " 0 0 0 0 0 0 0 0 0 0 0 0 0 0 0 0 0 1 0 0 0 0 1 0 1 0 1 1 0 1 0 0 0 0 0 0 0\n",
            " 1 1 0 0 1 0 0 0 0 0 0 1 0 1 0 1 0 0 1 1 1 1 1 1 1 0 0 1 1 1 0 1 1 1 0 0 1\n",
            " 0 0 0 0 1 0 1 0 1 0 0 0 0 0 0 0 0 1 0 0 0 0 0 0 0 0 0 0 0 0 0 0 0 0 0 0 0\n",
            " 0 1 0 0 1 0 1 1 0 0 0 0 0 0 1 0 0 0 0 0 0 1 0 0 0 0 1 0 0 1 0 0 0 0 0 0 1\n",
            " 0 0 1 0 0 1 0 0 0 0 0 0 0 0 0 0 0 0 1 0 0 1 0 0 0 0 0 0 0 0 0 1 0 0 0 1 0\n",
            " 0 0 1 0 0 0 1 0 0 0 0 0 0 0 0 0 0 0 0 0 0 0 1 0 0 0 0 1 0 0 0 0 0 0 1 0 0\n",
            " 0 0 0 0 0 1 0 0 0 1 0 1 1 0 0 0 0 0 0 0 0 0 1 1 1 0 0 0 0 0 0 0 0 0 1 0 0\n",
            " 1 0 0 0 0 0 0 0 0 0 1 0 0 0 0 0 0 0 0 0 0 0 0 0 0 1 1 0 0 0 0 0 0 0 0 0 0\n",
            " 0 1 0 0 0 0 1 0 1 0 0 0 1 0 0 1]\n",
            "Index(['field', 'bat'], dtype='object')\n",
            "0\n"
          ],
          "name": "stdout"
        }
      ]
    },
    {
      "cell_type": "code",
      "metadata": {
        "id": "Fn4gIr_7EwVI",
        "colab": {
          "base_uri": "https://localhost:8080/"
        },
        "outputId": "cbd0ea50-5d9c-4b83-9b01-78ae92eb999a"
      },
      "source": [
        "df['toss_winner'].unique()"
      ],
      "execution_count": 24,
      "outputs": [
        {
          "output_type": "execute_result",
          "data": {
            "text/plain": [
              "array([ 3,  5,  6,  1,  4,  9,  2,  7, 12, 13, 10,  8, 11, 14])"
            ]
          },
          "metadata": {
            "tags": []
          },
          "execution_count": 24
        }
      ]
    },
    {
      "cell_type": "code",
      "metadata": {
        "id": "RmMdoXdNFMrU",
        "colab": {
          "base_uri": "https://localhost:8080/"
        },
        "outputId": "22806a3d-1788-47e1-8051-73f44b48228c"
      },
      "source": [
        "#stats on the match winners and toss winners\n",
        "temp1=df['toss_winner'].value_counts(sort=True)\n",
        "temp2=df['winner'].value_counts(sort=True)\n",
        "#Mumbai won most toss and also most matches\n",
        "print('No of toss won by each team')\n",
        "for idx, val in temp1.iteritems():\n",
        "   print('{} -> {}'.format(list(Value.keys())[list(Value.values()).index(idx)],val))\n",
        "print('No of match won by each team')\n",
        "for idx, val in temp2.iteritems():\n",
        "   print('{} -> {}'.format(list(Value.keys())[list(Value.values()).index(idx)],val))"
      ],
      "execution_count": 25,
      "outputs": [
        {
          "output_type": "stream",
          "text": [
            "No of toss won by each team\n",
            "MI -> 98\n",
            "KKR -> 92\n",
            "CSK -> 89\n",
            "KXIP -> 81\n",
            "RCB -> 81\n",
            "DD -> 80\n",
            "RR -> 80\n",
            "SRH -> 46\n",
            "DC -> 43\n",
            "PW -> 20\n",
            "GL -> 15\n",
            "RPS -> 13\n",
            "DCA -> 10\n",
            "KTK -> 8\n",
            "No of match won by each team\n",
            "MI -> 109\n",
            "CSK -> 100\n",
            "KKR -> 92\n",
            "RCB -> 84\n",
            "KXIP -> 82\n",
            "RR -> 75\n",
            "DD -> 67\n",
            "SRH -> 58\n",
            "DC -> 29\n",
            "RPS -> 15\n",
            "GL -> 13\n",
            "PW -> 12\n",
            "DCA -> 10\n",
            "KTK -> 6\n",
            "Draw -> 4\n"
          ],
          "name": "stdout"
        }
      ]
    },
    {
      "cell_type": "code",
      "metadata": {
        "id": "foiXL2dqHbLP",
        "colab": {
          "base_uri": "https://localhost:8080/",
          "height": 282
        },
        "outputId": "35ecf2fb-8ca8-49db-e2ad-eef2bd02c310"
      },
      "source": [
        "df['toss_winner'].hist(bins=30)"
      ],
      "execution_count": 26,
      "outputs": [
        {
          "output_type": "execute_result",
          "data": {
            "text/plain": [
              "<matplotlib.axes._subplots.AxesSubplot at 0x7f6a82f7f978>"
            ]
          },
          "metadata": {
            "tags": []
          },
          "execution_count": 26
        },
        {
          "output_type": "display_data",
          "data": {
            "image/png": "[encoded data removed]",
            "text/plain": [
              "<Figure size 432x288 with 1 Axes>"
            ]
          },
          "metadata": {
            "tags": [],
            "needs_background": "light"
          }
        }
      ]
    },
    {
      "cell_type": "code",
      "metadata": {
        "id": "-ZKpyg35HytR",
        "colab": {
          "base_uri": "https://localhost:8080/",
          "height": 282
        },
        "outputId": "a8583c32-490a-43f6-cd85-3c66681c3b46"
      },
      "source": [
        "#shows that Mumbai won most matches followed by Chennai\n",
        "df['winner'].hist(bins=30)"
      ],
      "execution_count": 27,
      "outputs": [
        {
          "output_type": "execute_result",
          "data": {
            "text/plain": [
              "<matplotlib.axes._subplots.AxesSubplot at 0x7f6a82ae8588>"
            ]
          },
          "metadata": {
            "tags": []
          },
          "execution_count": 27
        },
        {
          "output_type": "display_data",
          "data": {
            "image/png": "[encoded data removed]",
            "text/plain": [
              "<Figure size 432x288 with 1 Axes>"
            ]
          },
          "metadata": {
            "tags": [],
            "needs_background": "light"
          }
        }
      ]
    },
    {
      "cell_type": "code",
      "metadata": {
        "id": "TSDdsj-WIKfK",
        "colab": {
          "base_uri": "https://localhost:8080/",
          "height": 370
        },
        "outputId": "f5969480-8133-49e2-d376-6cc4e5c1fa4c"
      },
      "source": [
        "import matplotlib.pyplot as plt\n",
        "fig = plt.figure(figsize=(9,5))\n",
        "ax1 = fig.add_subplot(121)\n",
        "ax1.set_xlabel('toss_winner')\n",
        "ax1.set_ylabel('Count of toss winners')\n",
        "ax1.set_title(\"toss winners\")\n",
        "temp1.plot(kind='bar')\n",
        "\n",
        "ax2 = fig.add_subplot(122)\n",
        "temp2.plot(kind = 'bar')\n",
        "ax2.set_xlabel('winner')\n",
        "ax2.set_ylabel('Count of match winners')\n",
        "ax2.set_title(\"Match winners\")"
      ],
      "execution_count": 28,
      "outputs": [
        {
          "output_type": "execute_result",
          "data": {
            "text/plain": [
              "Text(0.5, 1.0, 'Match winners')"
            ]
          },
          "metadata": {
            "tags": []
          },
          "execution_count": 28
        },
        {
          "output_type": "display_data",
          "data": {
            "image/png": "[encoded data removed]",
            "text/plain": [
              "<Figure size 648x360 with 2 Axes>"
            ]
          },
          "metadata": {
            "tags": [],
            "needs_background": "light"
          }
        }
      ]
    },
    {
      "cell_type": "code",
      "metadata": {
        "id": "dmlgC-a8gc1c",
        "colab": {
          "base_uri": "https://localhost:8080/"
        },
        "outputId": "19bbac8a-df0b-4ab2-c4aa-43679f2b297a"
      },
      "source": [
        "df.apply(lambda x: sum(x.isnull()),axis=0) \n",
        "#find the null values in every column"
      ],
      "execution_count": 29,
      "outputs": [
        {
          "output_type": "execute_result",
          "data": {
            "text/plain": [
              "team1            0\n",
              "team2            0\n",
              "city             0\n",
              "toss_decision    0\n",
              "toss_winner      0\n",
              "venue            0\n",
              "winner           0\n",
              "dtype: int64"
            ]
          },
          "metadata": {
            "tags": []
          },
          "execution_count": 29
        }
      ]
    },
    {
      "cell_type": "code",
      "metadata": {
        "id": "Q7MaBseCgdBn",
        "colab": {
          "base_uri": "https://localhost:8080/",
          "height": 47
        },
        "outputId": "3b425a56-5cc5-4a4d-e37f-bdecfb8b5f45"
      },
      "source": [
        "#Find cities which are null\n",
        "df[pd.isnull(df['city'])]"
      ],
      "execution_count": 30,
      "outputs": [
        {
          "output_type": "execute_result",
          "data": {
            "text/html": [
              "<div>\n",
              "<style scoped>\n",
              "    .dataframe tbody tr th:only-of-type {\n",
              "        vertical-align: middle;\n",
              "    }\n",
              "\n",
              "    .dataframe tbody tr th {\n",
              "        vertical-align: top;\n",
              "    }\n",
              "\n",
              "    .dataframe thead th {\n",
              "        text-align: right;\n",
              "    }\n",
              "</style>\n",
              "<table border=\"1\" class=\"dataframe\">\n",
              "  <thead>\n",
              "    <tr style=\"text-align: right;\">\n",
              "      <th></th>\n",
              "      <th>team1</th>\n",
              "      <th>team2</th>\n",
              "      <th>city</th>\n",
              "      <th>toss_decision</th>\n",
              "      <th>toss_winner</th>\n",
              "      <th>venue</th>\n",
              "      <th>winner</th>\n",
              "    </tr>\n",
              "  </thead>\n",
              "  <tbody>\n",
              "  </tbody>\n",
              "</table>\n",
              "</div>"
            ],
            "text/plain": [
              "Empty DataFrame\n",
              "Columns: [team1, team2, city, toss_decision, toss_winner, venue, winner]\n",
              "Index: []"
            ]
          },
          "metadata": {
            "tags": []
          },
          "execution_count": 30
        }
      ]
    },
    {
      "cell_type": "code",
      "metadata": {
        "id": "LQLN660zhLgh",
        "colab": {
          "base_uri": "https://localhost:8080/",
          "height": 402
        },
        "outputId": "22c3fa97-c005-4c06-f628-b609feb35426"
      },
      "source": [
        "#building predictive model , convert categorical to numerical data\n",
        "from sklearn.preprocessing import LabelEncoder\n",
        "va_mod = ['city','toss_decision','venue']\n",
        "le = LabelEncoder()\n",
        "for i in va_mod:\n",
        "    df[i] = le.fit_transform(df[i])\n",
        "df"
      ],
      "execution_count": 31,
      "outputs": [
        {
          "output_type": "execute_result",
          "data": {
            "text/html": [
              "<div>\n",
              "<style scoped>\n",
              "    .dataframe tbody tr th:only-of-type {\n",
              "        vertical-align: middle;\n",
              "    }\n",
              "\n",
              "    .dataframe tbody tr th {\n",
              "        vertical-align: top;\n",
              "    }\n",
              "\n",
              "    .dataframe thead th {\n",
              "        text-align: right;\n",
              "    }\n",
              "</style>\n",
              "<table border=\"1\" class=\"dataframe\">\n",
              "  <thead>\n",
              "    <tr style=\"text-align: right;\">\n",
              "      <th></th>\n",
              "      <th>team1</th>\n",
              "      <th>team2</th>\n",
              "      <th>city</th>\n",
              "      <th>toss_decision</th>\n",
              "      <th>toss_winner</th>\n",
              "      <th>venue</th>\n",
              "      <th>winner</th>\n",
              "    </tr>\n",
              "  </thead>\n",
              "  <tbody>\n",
              "    <tr>\n",
              "      <th>0</th>\n",
              "      <td>2</td>\n",
              "      <td>3</td>\n",
              "      <td>2</td>\n",
              "      <td>1</td>\n",
              "      <td>3</td>\n",
              "      <td>17</td>\n",
              "      <td>2</td>\n",
              "    </tr>\n",
              "    <tr>\n",
              "      <th>1</th>\n",
              "      <td>5</td>\n",
              "      <td>9</td>\n",
              "      <td>7</td>\n",
              "      <td>0</td>\n",
              "      <td>5</td>\n",
              "      <td>27</td>\n",
              "      <td>5</td>\n",
              "    </tr>\n",
              "    <tr>\n",
              "      <th>2</th>\n",
              "      <td>6</td>\n",
              "      <td>7</td>\n",
              "      <td>10</td>\n",
              "      <td>0</td>\n",
              "      <td>6</td>\n",
              "      <td>9</td>\n",
              "      <td>7</td>\n",
              "    </tr>\n",
              "    <tr>\n",
              "      <th>3</th>\n",
              "      <td>1</td>\n",
              "      <td>3</td>\n",
              "      <td>24</td>\n",
              "      <td>0</td>\n",
              "      <td>1</td>\n",
              "      <td>40</td>\n",
              "      <td>3</td>\n",
              "    </tr>\n",
              "    <tr>\n",
              "      <th>4</th>\n",
              "      <td>4</td>\n",
              "      <td>2</td>\n",
              "      <td>22</td>\n",
              "      <td>0</td>\n",
              "      <td>4</td>\n",
              "      <td>8</td>\n",
              "      <td>2</td>\n",
              "    </tr>\n",
              "    <tr>\n",
              "      <th>...</th>\n",
              "      <td>...</td>\n",
              "      <td>...</td>\n",
              "      <td>...</td>\n",
              "      <td>...</td>\n",
              "      <td>...</td>\n",
              "      <td>...</td>\n",
              "      <td>...</td>\n",
              "    </tr>\n",
              "    <tr>\n",
              "      <th>751</th>\n",
              "      <td>2</td>\n",
              "      <td>1</td>\n",
              "      <td>24</td>\n",
              "      <td>1</td>\n",
              "      <td>1</td>\n",
              "      <td>40</td>\n",
              "      <td>1</td>\n",
              "    </tr>\n",
              "    <tr>\n",
              "      <th>752</th>\n",
              "      <td>5</td>\n",
              "      <td>1</td>\n",
              "      <td>8</td>\n",
              "      <td>0</td>\n",
              "      <td>5</td>\n",
              "      <td>18</td>\n",
              "      <td>1</td>\n",
              "    </tr>\n",
              "    <tr>\n",
              "      <th>753</th>\n",
              "      <td>10</td>\n",
              "      <td>14</td>\n",
              "      <td>32</td>\n",
              "      <td>1</td>\n",
              "      <td>14</td>\n",
              "      <td>0</td>\n",
              "      <td>14</td>\n",
              "    </tr>\n",
              "    <tr>\n",
              "      <th>754</th>\n",
              "      <td>14</td>\n",
              "      <td>5</td>\n",
              "      <td>32</td>\n",
              "      <td>1</td>\n",
              "      <td>5</td>\n",
              "      <td>0</td>\n",
              "      <td>5</td>\n",
              "    </tr>\n",
              "    <tr>\n",
              "      <th>755</th>\n",
              "      <td>1</td>\n",
              "      <td>5</td>\n",
              "      <td>15</td>\n",
              "      <td>0</td>\n",
              "      <td>1</td>\n",
              "      <td>29</td>\n",
              "      <td>1</td>\n",
              "    </tr>\n",
              "  </tbody>\n",
              "</table>\n",
              "<p>756 rows × 7 columns</p>\n",
              "</div>"
            ],
            "text/plain": [
              "     team1  team2  city  toss_decision  toss_winner  venue  winner\n",
              "0        2      3     2              1            3     17       2\n",
              "1        5      9     7              0            5     27       5\n",
              "2        6      7    10              0            6      9       7\n",
              "3        1      3    24              0            1     40       3\n",
              "4        4      2    22              0            4      8       2\n",
              "..     ...    ...   ...            ...          ...    ...     ...\n",
              "751      2      1    24              1            1     40       1\n",
              "752      5      1     8              0            5     18       1\n",
              "753     10     14    32              1           14      0      14\n",
              "754     14      5    32              1            5      0       5\n",
              "755      1      5    15              0            1     29       1\n",
              "\n",
              "[756 rows x 7 columns]"
            ]
          },
          "metadata": {
            "tags": []
          },
          "execution_count": 31
        }
      ]
    },
    {
      "cell_type": "code",
      "metadata": {
        "id": "H0pYcdD_i47R",
        "colab": {
          "base_uri": "https://localhost:8080/",
          "height": 343
        },
        "outputId": "c0ea4a0a-f191-4edb-a7a6-db08bd0b9743"
      },
      "source": [
        "df.head(10)"
      ],
      "execution_count": 32,
      "outputs": [
        {
          "output_type": "execute_result",
          "data": {
            "text/html": [
              "<div>\n",
              "<style scoped>\n",
              "    .dataframe tbody tr th:only-of-type {\n",
              "        vertical-align: middle;\n",
              "    }\n",
              "\n",
              "    .dataframe tbody tr th {\n",
              "        vertical-align: top;\n",
              "    }\n",
              "\n",
              "    .dataframe thead th {\n",
              "        text-align: right;\n",
              "    }\n",
              "</style>\n",
              "<table border=\"1\" class=\"dataframe\">\n",
              "  <thead>\n",
              "    <tr style=\"text-align: right;\">\n",
              "      <th></th>\n",
              "      <th>team1</th>\n",
              "      <th>team2</th>\n",
              "      <th>city</th>\n",
              "      <th>toss_decision</th>\n",
              "      <th>toss_winner</th>\n",
              "      <th>venue</th>\n",
              "      <th>winner</th>\n",
              "    </tr>\n",
              "  </thead>\n",
              "  <tbody>\n",
              "    <tr>\n",
              "      <th>0</th>\n",
              "      <td>2</td>\n",
              "      <td>3</td>\n",
              "      <td>2</td>\n",
              "      <td>1</td>\n",
              "      <td>3</td>\n",
              "      <td>17</td>\n",
              "      <td>2</td>\n",
              "    </tr>\n",
              "    <tr>\n",
              "      <th>1</th>\n",
              "      <td>5</td>\n",
              "      <td>9</td>\n",
              "      <td>7</td>\n",
              "      <td>0</td>\n",
              "      <td>5</td>\n",
              "      <td>27</td>\n",
              "      <td>5</td>\n",
              "    </tr>\n",
              "    <tr>\n",
              "      <th>2</th>\n",
              "      <td>6</td>\n",
              "      <td>7</td>\n",
              "      <td>10</td>\n",
              "      <td>0</td>\n",
              "      <td>6</td>\n",
              "      <td>9</td>\n",
              "      <td>7</td>\n",
              "    </tr>\n",
              "    <tr>\n",
              "      <th>3</th>\n",
              "      <td>1</td>\n",
              "      <td>3</td>\n",
              "      <td>24</td>\n",
              "      <td>0</td>\n",
              "      <td>1</td>\n",
              "      <td>40</td>\n",
              "      <td>3</td>\n",
              "    </tr>\n",
              "    <tr>\n",
              "      <th>4</th>\n",
              "      <td>4</td>\n",
              "      <td>2</td>\n",
              "      <td>22</td>\n",
              "      <td>0</td>\n",
              "      <td>4</td>\n",
              "      <td>8</td>\n",
              "      <td>2</td>\n",
              "    </tr>\n",
              "    <tr>\n",
              "      <th>5</th>\n",
              "      <td>9</td>\n",
              "      <td>6</td>\n",
              "      <td>17</td>\n",
              "      <td>0</td>\n",
              "      <td>9</td>\n",
              "      <td>32</td>\n",
              "      <td>6</td>\n",
              "    </tr>\n",
              "    <tr>\n",
              "      <th>6</th>\n",
              "      <td>4</td>\n",
              "      <td>7</td>\n",
              "      <td>15</td>\n",
              "      <td>0</td>\n",
              "      <td>4</td>\n",
              "      <td>28</td>\n",
              "      <td>7</td>\n",
              "    </tr>\n",
              "    <tr>\n",
              "      <th>7</th>\n",
              "      <td>5</td>\n",
              "      <td>1</td>\n",
              "      <td>8</td>\n",
              "      <td>1</td>\n",
              "      <td>1</td>\n",
              "      <td>20</td>\n",
              "      <td>5</td>\n",
              "    </tr>\n",
              "    <tr>\n",
              "      <th>8</th>\n",
              "      <td>4</td>\n",
              "      <td>6</td>\n",
              "      <td>15</td>\n",
              "      <td>1</td>\n",
              "      <td>6</td>\n",
              "      <td>28</td>\n",
              "      <td>6</td>\n",
              "    </tr>\n",
              "    <tr>\n",
              "      <th>9</th>\n",
              "      <td>9</td>\n",
              "      <td>1</td>\n",
              "      <td>7</td>\n",
              "      <td>1</td>\n",
              "      <td>1</td>\n",
              "      <td>27</td>\n",
              "      <td>9</td>\n",
              "    </tr>\n",
              "  </tbody>\n",
              "</table>\n",
              "</div>"
            ],
            "text/plain": [
              "   team1  team2  city  toss_decision  toss_winner  venue  winner\n",
              "0      2      3     2              1            3     17       2\n",
              "1      5      9     7              0            5     27       5\n",
              "2      6      7    10              0            6      9       7\n",
              "3      1      3    24              0            1     40       3\n",
              "4      4      2    22              0            4      8       2\n",
              "5      9      6    17              0            9     32       6\n",
              "6      4      7    15              0            4     28       7\n",
              "7      5      1     8              1            1     20       5\n",
              "8      4      6    15              1            6     28       6\n",
              "9      9      1     7              1            1     27       9"
            ]
          },
          "metadata": {
            "tags": []
          },
          "execution_count": 32
        }
      ]
    },
    {
      "cell_type": "code",
      "metadata": {
        "id": "3OUFaTwpi-vA"
      },
      "source": [
        "#Import models from scikit learn module:\n",
        "from sklearn.linear_model import LogisticRegression\n",
        "from sklearn.ensemble import RandomForestClassifier\n",
        "from sklearn.tree import DecisionTreeClassifier, export_graphviz\n",
        "from sklearn import metrics\n",
        "\n",
        "#Generic function for making a classification model and accessing performance:\n",
        "def classification_model(model, data, predictors, outcome):\n",
        "      model.fit(data[predictors],data[outcome])\n",
        "      predictions = model.predict(data[predictors])\n",
        "      print(predictions)\n",
        "      accuracy = metrics.accuracy_score(predictions,data[outcome])\n",
        "      print('Accuracy : %s' % '{0:.3%}'.format(accuracy))"
      ],
      "execution_count": 33,
      "outputs": []
    },
    {
      "cell_type": "code",
      "metadata": {
        "id": "EJgiCcpTjRhb",
        "colab": {
          "base_uri": "https://localhost:8080/"
        },
        "outputId": "cf1a157d-418f-4936-d6fd-1e7bb5350863"
      },
      "source": [
        "#logistic Regression\n",
        "outcome_var=['winner']\n",
        "predictor_var = ['team1', 'team2', 'venue', 'toss_winner','city','toss_decision']\n",
        "model =LogisticRegression()\n",
        "classification_model(model, df,predictor_var,outcome_var)"
      ],
      "execution_count": 34,
      "outputs": [
        {
          "output_type": "stream",
          "text": [
            "[ 3  6  5  1  2  6  5  3  3  3  3  5  2 10  5  2  3  6  6  5  1  6  2  6\n",
            "  3  3  2  3  2  1  3  9  1  9  5  5  1  9  3  1 10  1  1  2  3  2  1  5\n",
            "  3  3  5  3  2  1  5  6  6  2  3  5  9  5  1  2  5  5  3  5  1  1  6  3\n",
            "  1  6  1  5  6  6  2  5  1  3  1  1  5  9  5  6  3  6  5  2  5  1  1  5\n",
            "  1  6  3  5  5  9  1  1  9  6  6  5  2  5  3  6  6  1  1  2  2  9  2  5\n",
            "  9  5  2  3  3  5 14  6  2  7  9  2  3  9  2  6  5  3  6  2  5  2  5  5\n",
            "  2  6  5  2  5  5  6  5  6  5  3  5  1  3 10  1  1  2  5  6  5  9  3  2\n",
            "  9  5  1  2  2  2  2  5  3  5  5 10  2  6  3  9 10  1  1  6  5  6 10  2\n",
            "  9  5  6  2  9  1  2  9  1  9  9  3 10  9  3  1 14 10  2  9  5  1 14  1\n",
            "  5 14  9  3  3  2  1  5 10  6 10  3  1  5  9  3  1  9  9  7  5 10  2  1\n",
            "  3 10  3  2  1  1  3  5  3  2  9  9  3  2  1 10  2  3  3  1  5  9  2  5\n",
            " 10  2  5  1  6  5  6  5  9  9  5  9  1  2  1  6  6 10  2  5  2  5  1  5\n",
            " 15  6  3  6  5  7 10  1  3  5  6  9  1  6  6  1  9 10  5  3  2 10  1  9\n",
            "  3  5  9 10  1  1  1  3  3  5  2  3  9  5  5 10  5  1  1  9  3 10 10  6\n",
            "  3  7  9 10  9  3  9  1  5 10  2  3  5  9  5 14  9  2  5  2  6  1  3  9\n",
            "  1  1 10  5  1  5 10  2 10  3  1  6  5  6  1  9  9 10  3  6  9  2  6  9\n",
            "  6  2  5  1  3  6  2  6  3  5  5 10  2  1  1  1  6  9  2  5  6  6  9  3\n",
            "  1 10  5  3  9  1  6  3  6  2  2  6  9  9  3  3  1  5  9  9  9  9  1  2\n",
            "  5  6  2  3  9  2  9  2  6  6  9  5  2  3  2  2  1  9  3  2  9  1  2  2\n",
            "  6  3  2  3  9 10  2  9  1  3  6  2  5  2  1  7  2  6  3  2  9  2  3  2\n",
            "  3  1  5  3  9  5  3  3  9  1  3  9  5  2  5  2  1  3  7  5  2  6  1  5\n",
            " 10  5  9  1  6  6  2  3  6  1  1  2  2  6  2  9  3  2 10  9  6  1 10  3\n",
            "  3  9  1  9  5  2  9  1  2  3  9  9  1  9  2  9  9  2  3  9  2  9  9  9\n",
            "  9  2  2  3 10  3  9  2  3  5 10  2  2 11  3  2  9 10  3  2  1  3  9  9\n",
            "  5  9  1  1  9  5  9  1  5  9  1  2  3  9  2 10  1  9  5  9  1 10  2  2\n",
            "  1  9  9  2  1  2  3  2  9  2  1  9  9  1  9  9  5  9  9  9  3  3  9  5\n",
            "  9  9  1 10  9  2  9  5  1  9  3  5  1  9  2  9  3  6  3  9  1  2  3  9\n",
            "  2  1  1 10  2  2  3  9  1  9  1  3  9  2  1  6  3  2  3  9  2  2  1 10\n",
            "  1  9  9  6  2 10  6  3  3  2  1  2  2  1  3  3  6  6  5  2  9  2  2  9\n",
            "  3  2  9  9 10  2  3 10  1 14  9  3  9  1  1 10  3  5  3 14  1  9  3  1\n",
            "  6 14  1  2  2  9  1  9 10  9  2  1 14  3  3  9  9  3  2  3  9 10  2  9\n",
            "  3  9  1  2 10  9  9  1  5 14 10  1]\n",
            "Accuracy : 33.069%\n"
          ],
          "name": "stdout"
        },
        {
          "output_type": "stream",
          "text": [
            "/usr/local/lib/python3.6/dist-packages/sklearn/utils/validation.py:760: DataConversionWarning: A column-vector y was passed when a 1d array was expected. Please change the shape of y to (n_samples, ), for example using ravel().\n",
            "  y = column_or_1d(y, warn=True)\n",
            "/usr/local/lib/python3.6/dist-packages/sklearn/linear_model/_logistic.py:940: ConvergenceWarning: lbfgs failed to converge (status=1):\n",
            "STOP: TOTAL NO. of ITERATIONS REACHED LIMIT.\n",
            "\n",
            "Increase the number of iterations (max_iter) or scale the data as shown in:\n",
            "    https://scikit-learn.org/stable/modules/preprocessing.html\n",
            "Please also refer to the documentation for alternative solver options:\n",
            "    https://scikit-learn.org/stable/modules/linear_model.html#logistic-regression\n",
            "  extra_warning_msg=_LOGISTIC_SOLVER_CONVERGENCE_MSG)\n"
          ],
          "name": "stderr"
        }
      ]
    },
    {
      "cell_type": "code",
      "metadata": {
        "id": "F8EvQwjSjiZM",
        "colab": {
          "base_uri": "https://localhost:8080/"
        },
        "outputId": "d9dcdcc9-1120-458c-bb94-d30c1eba1d1b"
      },
      "source": [
        "#Gaussian NAive bayes algorithm\n",
        "from sklearn.naive_bayes import GaussianNB\n",
        "outcome_var=['winner']\n",
        "predictor_var = ['team1', 'team2', 'venue', 'toss_winner','city','toss_decision']\n",
        "model = GaussianNB() \n",
        "classification_model(model, df,predictor_var,outcome_var)"
      ],
      "execution_count": 35,
      "outputs": [
        {
          "output_type": "stream",
          "text": [
            "[ 3  5  5  1  2  6  5 12 12 12  3  5 12  5  5  2 12 12  5  5  5  5 12  6\n",
            "  3 12 12 12  2 12  3 12  1 12  5  2 12 12 12 12  7 12 12  2  3 12 12  5\n",
            " 12 12  5  3  2 12  5 12  6 12  3  5  9  3  1 12  5  5  3  5  2  1  6 12\n",
            "  1  6  2  5  6  6  2  5  1 12  1  1  2 12  5  1  6  6  2 12  5  1 12  2\n",
            "  1  6 12  5  5  9  1 12 12  6  6  5 12  5  6  6  6 12 12 12  2 12 12  5\n",
            "  6  5  2 12  3  5 12  5  2  5 12  2  3 12 12  5  5  3  6 12  5 12  5  5\n",
            "  2  6  5  2  2  5  6  5  6  2  3  1  1  3  7 12 12  1  5  6  5 12  3  2\n",
            " 12  5  2  2  2  2  2  5 12 10  2 13  2  6  3 12 13 12 12 12  5 12 12 12\n",
            " 12  5 13 12 12 12 12 12 12 12 12 12 13 12 12 12 12 10 12 12  5 12 12 12\n",
            "  5 12 12 12  3  2 12  9 10 12 10 12 12  5 12  3  1 12 12 12  5  5 12  1\n",
            " 12 10  3 12 12 12  3  5 12 12 12 12  3 12 12 13  2  3 12 12  5 12  2  5\n",
            " 10 12  5 12  6 10  5  5 12 12  5 12  1 12 12 13  5  1 12  5  2  5 12  5\n",
            "  4  6  3  1  5  1  5 12  3  5 13 12 12 12 12  2 12 10  5  3 12  7 12 12\n",
            " 12  6 12  1 12  1  1  3 12  5 12  3 12  5  1 13  5 12  1 12  3 13  7  1\n",
            " 12  1 12 10 12  3 12  1  5 10  2  3  2 12  5 12 12  2 10  2 10  1 12 12\n",
            " 12  1 10  1  1  5  1  2 10  3  1 10  9  6  1 12 12  1 12 13 12 12 12 12\n",
            " 13 12  5 12 12 10 12 13  3  1  2  7  2  2  1 12  6  6 12  2 12  6 12 12\n",
            "  1  7  2  6  3  1 13 12  6 12  2  1 12  3  3 12 12  5 12  9  3 12 12 12\n",
            "  5 10  5  3 12  2  6  2 10  3 12  5 12 12 12 12 12 12  3 12 12 12 12 12\n",
            " 12  3 12 12 12  5 12 12 12  9  3 12 10 12  1  7 12  6  3 12  9 12  3 12\n",
            "  3  1  5 12 12  2  3 12 12 12  3 12  1 12  5 12  1  3 12  5  2 13  1  5\n",
            " 10  6 12 12 10  6  2  3 10  1  1 12 12  1 12 12  9 12 13 12 10 12 10  3\n",
            " 12 12 12 12 12 12 12  1 12 12 12 12 12 12 12 12 12 12  3 12 12 12 12  3\n",
            " 12 12 12 12 13  3 12  1  8 13 10 12 12 12  3 12 12 13 12 12 12  3 12 12\n",
            "  9 12 12 12 12  5 12 12  5 12 12 12  3 12 12  7 12  3  5 12 12 10 12 12\n",
            " 12 12 12 12 12 12  8 12 12 12  1 12 12  1 12 12 12 12  3 12 12  3 12  1\n",
            " 12 12 12  7 12 12 12  5 12  3  3  1 12 12 12 12 12 12 12  3 12 12  3 12\n",
            " 12 12 12 10 12 12  3 12  1 12 12  3 12 12 12 10  3 12  3 12 12 12 12 10\n",
            " 12 12 12  6 12  7  6 12 12 12 12 12 12 12 12 12  6 10  2 12 12 12 12 12\n",
            " 12 12 12 12 10 12  3  5 12 12 12 12 12 12 12 12  3  5 12 12 12 12 12 12\n",
            " 12 12 12 12 12 12 12 12  5  1 12 12 12 12  3 12 12  9 12 12 12 13 12 12\n",
            "  3 12  1 12 10  3 12 12  5 12 12  1]\n",
            "Accuracy : 19.048%\n"
          ],
          "name": "stdout"
        },
        {
          "output_type": "stream",
          "text": [
            "/usr/local/lib/python3.6/dist-packages/sklearn/naive_bayes.py:206: DataConversionWarning: A column-vector y was passed when a 1d array was expected. Please change the shape of y to (n_samples, ), for example using ravel().\n",
            "  y = column_or_1d(y, warn=True)\n"
          ],
          "name": "stderr"
        }
      ]
    },
    {
      "cell_type": "code",
      "metadata": {
        "id": "Bx9NAkC0jlnY",
        "colab": {
          "base_uri": "https://localhost:8080/"
        },
        "outputId": "b1d1f54b-d01e-4327-b696-39c5e8b0700c"
      },
      "source": [
        "#applying knn algorithm\n",
        "from sklearn.neighbors import KNeighborsClassifier\n",
        "model = KNeighborsClassifier(n_neighbors=3)\n",
        "classification_model(model, df,predictor_var,outcome_var)"
      ],
      "execution_count": 36,
      "outputs": [
        {
          "output_type": "stream",
          "text": [
            "/usr/local/lib/python3.6/dist-packages/ipykernel_launcher.py:9: DataConversionWarning: A column-vector y was passed when a 1d array was expected. Please change the shape of y to (n_samples, ), for example using ravel().\n",
            "  if __name__ == '__main__':\n"
          ],
          "name": "stderr"
        },
        {
          "output_type": "stream",
          "text": [
            "[ 2  5  5  1  2  6  7  5  6  9  6  5  1  9  3  1  3  9  1  5  4  1  1  6\n",
            "  9  5  1  5  2  3  1  5  2  6  9  2  1  9  3  1  9  2  1  5  7  6  9  5\n",
            "  9  1  5  3  2  6  3  6  1  6  1  1  9  4  4  2  4  7  2  3  3  2  7  3\n",
            "  1  5  4  9  5  5  1  3  5  3  2  4  5  5  3  2  5  5  7  2  5  1  4  5\n",
            "  3  1  3  3  3  9  1  4  3  7  4  3  2  3  7  3  2  4  4  1  1  6  2  5\n",
            "  6  3  2  1  3  7  4  6  1  4  5  1  3  9  1  6  9  3  6  1  2  1  5  7\n",
            "  2  2  5  1  2  2  6  5  6  2  3  1  4  2  9  6  4  1  5  6  5  4  1  2\n",
            "  4  4  1  1  3  5  5  2  6  3  1 13  2  6  1  9 13  4  2  1  5  9  4  2\n",
            "  4  4  1  2  9  1  2  9  1  6  5  3  2  4  1  6  3  7  2  6  5  1 10  1\n",
            "  5  1  2  6  9  2  7  3 10  6 10  9  2  5  9  2  1  9  9  2  2  5  2  1\n",
            "  3  7  3  1  5  1  1  5  5  2 11  6  7  1  2 13  1  2  7  6  5  9  2  4\n",
            "  4  2  3  7  6  3  1  7  5  9  5  7  1  2  6  6  1  4  7  9  2  7  1  2\n",
            "  4  6  9  2  5  2  5  1  3  2  6 10  1  5  3  1  5  6  9  1  5  7  1  4\n",
            "  3  4  9  2  4  6  2  1  5  2  2  1 10  5  5 13 10  2  1  5  2 13 10  1\n",
            "  5  2  6  5  9  3  9  6  7 10  5  3  7  9  5  3  9  1  5  2  6  1  5 10\n",
            "  6  1  4 10  7  5  2  2 10  9  1  6  3  6  1  5  9  2  3  1 10  2  6  9\n",
            "  1  2  5  6  9 10  7  6  3 10  1  6  2  5  6  3  5  5  3  7  9  5  9  5\n",
            "  2  6  3  5  6  7  5  3  6 10  5  1  6  3  6  5  1  2  2  6  9 10  1  2\n",
            "  3  1  5  7 10  2  6  5  2  6  9 10  2  9  2  5  7  9  3  2  9  1  2  1\n",
            "  5  2  1  5  5  5  2  6  9  3  6  2  6  6  1 11  2  6  1  7  6 10  3  7\n",
            "  6  1  5  3 10  2  6  5  7  6  2 10  1  6  5  2  1  9  6  5  2  7  1  5\n",
            " 10  6  9  1  2  3  5  3  1  1  5  5  5  1  2  8  3  1  8  7  2  1 10  7\n",
            " 10  9  1  9  3  7 10  7  2  1 11  7  1  5  7 10  9  2  2  9  2 10 10  3\n",
            "  7 10  8  9 11  1 10  1  3  2 10  1  2 11  9  8  7 11  8  2  3  3  2 10\n",
            "  3 10  3  3  9  3 10  1  9 11  1  2  1  9  2  9  1  3  2 10  3 10  1  8\n",
            "  7 11  9  2 11  2  3  2 10  2  1  9 10  1 11  7  2  7  9  9  1  2  8 10\n",
            "  9  7  9 10  7  1 11  3 11  2  1 10  1  9  2  5  5  6 10  9  7  2  3  9\n",
            "  2  1  2  9  5  2  3  5  6  7  1  5 10  7  1  6  2  5  1  6  2  1  5 10\n",
            "  1  2 10  6  1 10  6  2  3  5  6  1  2  1  3  5  6  2  1  5  5  6  2  5\n",
            "  5  2 11  6  5  2  1 10  9 11 10  5  9  6  1  6  2  5 10  3  2  9  5  9\n",
            "  5  1  6  2  5 10  1  9 10  1  2  6 11 10  3  6  5  3  6  5  6  5  1 10\n",
            " 15  5  1  2  7  3  9  1  1 10  5  1]\n",
            "Accuracy : 64.815%\n"
          ],
          "name": "stdout"
        }
      ]
    },
    {
      "cell_type": "code",
      "metadata": {
        "id": "YH8rmwQajrNn",
        "colab": {
          "base_uri": "https://localhost:8080/",
          "height": 136
        },
        "outputId": "ed3de30f-d73b-4cc7-e9fc-564bcc160d70"
      },
      "source": [
        "df.head(3)"
      ],
      "execution_count": 37,
      "outputs": [
        {
          "output_type": "execute_result",
          "data": {
            "text/html": [
              "<div>\n",
              "<style scoped>\n",
              "    .dataframe tbody tr th:only-of-type {\n",
              "        vertical-align: middle;\n",
              "    }\n",
              "\n",
              "    .dataframe tbody tr th {\n",
              "        vertical-align: top;\n",
              "    }\n",
              "\n",
              "    .dataframe thead th {\n",
              "        text-align: right;\n",
              "    }\n",
              "</style>\n",
              "<table border=\"1\" class=\"dataframe\">\n",
              "  <thead>\n",
              "    <tr style=\"text-align: right;\">\n",
              "      <th></th>\n",
              "      <th>team1</th>\n",
              "      <th>team2</th>\n",
              "      <th>city</th>\n",
              "      <th>toss_decision</th>\n",
              "      <th>toss_winner</th>\n",
              "      <th>venue</th>\n",
              "      <th>winner</th>\n",
              "    </tr>\n",
              "  </thead>\n",
              "  <tbody>\n",
              "    <tr>\n",
              "      <th>0</th>\n",
              "      <td>2</td>\n",
              "      <td>3</td>\n",
              "      <td>2</td>\n",
              "      <td>1</td>\n",
              "      <td>3</td>\n",
              "      <td>17</td>\n",
              "      <td>2</td>\n",
              "    </tr>\n",
              "    <tr>\n",
              "      <th>1</th>\n",
              "      <td>5</td>\n",
              "      <td>9</td>\n",
              "      <td>7</td>\n",
              "      <td>0</td>\n",
              "      <td>5</td>\n",
              "      <td>27</td>\n",
              "      <td>5</td>\n",
              "    </tr>\n",
              "    <tr>\n",
              "      <th>2</th>\n",
              "      <td>6</td>\n",
              "      <td>7</td>\n",
              "      <td>10</td>\n",
              "      <td>0</td>\n",
              "      <td>6</td>\n",
              "      <td>9</td>\n",
              "      <td>7</td>\n",
              "    </tr>\n",
              "  </tbody>\n",
              "</table>\n",
              "</div>"
            ],
            "text/plain": [
              "   team1  team2  city  toss_decision  toss_winner  venue  winner\n",
              "0      2      3     2              1            3     17       2\n",
              "1      5      9     7              0            5     27       5\n",
              "2      6      7    10              0            6      9       7"
            ]
          },
          "metadata": {
            "tags": []
          },
          "execution_count": 37
        }
      ]
    },
    {
      "cell_type": "code",
      "metadata": {
        "id": "qdsWrfn3jzWI",
        "colab": {
          "base_uri": "https://localhost:8080/"
        },
        "outputId": "eda9797f-1ad3-4a99-9fd4-19576615f202"
      },
      "source": [
        "#Decision tree algorithm\n",
        "from sklearn import tree\n",
        "model = tree.DecisionTreeClassifier(criterion='gini')\n",
        "outcome_var=['winner']\n",
        "predictor_var = ['team1', 'team2', 'venue', 'toss_winner','city','toss_decision']\n",
        "classification_model(model, df,predictor_var,outcome_var)"
      ],
      "execution_count": 38,
      "outputs": [
        {
          "output_type": "stream",
          "text": [
            "[ 3  5  6  1  2  6  7  1  6  9  6  5  1  9  5  1  3  9  6  5  3  2  1  6\n",
            "  3  4  1  5  2  6  1  5  2  6  9  2  1  9  7  1  9  3  1  5  3  6  9  5\n",
            "  9  1  5  3  2  6  5  6  5  6  1  3  7  4  5  2  4  7  6  3  4  7  9  4\n",
            "  1  6  3  9  7  5  1  3  6  5  9  3  5  6  7  4  6  5  7  9  5  1  7  4\n",
            "  3  1  7  3  6  9  5  4  9  7  2  3  2  5  7  3  4  3  4  2  1  7  2  4\n",
            "  6  3  2  1  3  5  4  6  3  4  9  1  3  6  1  6  2  3  6  1  2  1  5  7\n",
            "  2  3  5  1  9  7  6  1  6  2  3  1  4  3  9  6  4  1  5  3  5  4  1  2\n",
            "  5  4  1  1  5  3  5  2  6  3  1 13  2  6  1  9 13  4  2 12  5  9  7  2\n",
            " 12  4  1 12  9  1  3  9  1  6  5  3  5  4  2  6  3  7  2  6  5  1 12  2\n",
            "  5  1 12  7  3  2  1  3 13  5 13  9  3  5  9  3  4  9 12  4  9  5  2  6\n",
            "  4 15  3  1  5  1  3  5  1  2 13  6  3  5  2  9  1  3  7  1  5  9  2  4\n",
            "  5  2  6  1  6  3  2  7  5  3  5 13  1  2  6  7  1  4  7  9  2  7  1  2\n",
            "  4  7  3  1  5  2  6  1  3  2  6  9  1  5  3  1  5  6  9  1  5  7  1  9\n",
            "  3  4  9  2  4  1  2  5  5  2  2  1 10  6  1  9 10  2  1  5  3 13 10  1\n",
            "  5  2  6 13  9  3 10  1  5 10  5  3  7  9  5  3  9  1  5  2  6  1  5  7\n",
            "  6  1  5 10  7  5  3  2 10  3  1  6  3  6  1  5  9  2  3  1 10  2  5  9\n",
            "  1 13  5  1  9 10  9  7  3 10  5  6  1  1  2  3  9  6  3  7  9  5  9  5\n",
            "  2 10  5  6  9  7  5  9  6 10  5  1  6  3  6  5  1  2  9 10  9 10  1  2\n",
            "  6  1  5  3 10  2  6  3  2  1  9 10  2  9  3 10  1  9  3  2  9  1  2  5\n",
            "  9  2  1  5  6  5  3  6  9  3  1  2  7  6  1  7  2  6  1  7  9 10  3  7\n",
            "  3  1  5  3 10  2  6  5  7  1  3 10  1  6  5  2  1  3 10  1  2 10  1  5\n",
            " 10  7  3  1  3  5  6  3  1  1  3  5  1 11  2  8  3  1  8  7  2  8  9  3\n",
            " 10  2  1 10  3  7 10  8  2  1 11  7  1  8  7 10  9  1  2  7  2 11 10  3\n",
            "  9 10  8  3 10  1  7  9  3  2 10  1  3 11  3  8  7 11  8  2  3  3 10 10\n",
            "  3 10 11  2  9  3 10  1  9  7  1  2  1  8  2  9  1  3  2 10  3 10  1  8\n",
            "  1 11  9  3 11  2  3  2 10 11  1  9 10  1 11  7 11  7  9 11  1  2  8 10\n",
            "  2  7  9  7 10  1 11  3 11  2  1  1  1  9  2 10  5  6 10  3  1  2  6  9\n",
            "  2  1  2  9  5  2  3  5  6  7  1  5 10  7  1  6  2  5  3  6  2  1  5 10\n",
            "  1  9 10  6  1 10  6  2  3  5  1  3  2  1  3  5  3  2  1  5  5  6  2  5\n",
            "  5  2 14  6  5  2  1 10  9 14 10  5  9  6  1 10  2  5  1 14  2  9  5  9\n",
            "  5 14  1  3  5 14  1  9 10  1  2  6 14 10  3 14  5  3  6  1  6 14  1 10\n",
            " 15  5  1  2 14  3  9  1  1 14  5  1]\n",
            "Accuracy : 88.095%\n"
          ],
          "name": "stdout"
        }
      ]
    },
    {
      "cell_type": "code",
      "metadata": {
        "id": "0kfRLmUIkPVn",
        "colab": {
          "base_uri": "https://localhost:8080/"
        },
        "outputId": "e6cd1571-c7e0-43a7-c56e-f4e010519dbd"
      },
      "source": [
        "#Random forest classifier\n",
        "model = RandomForestClassifier(n_estimators=100)\n",
        "outcome_var = ['winner']\n",
        "predictor_var = ['team1', 'team2', 'venue', 'toss_winner','city','toss_decision']\n",
        "classification_model(model, df,predictor_var,outcome_var)"
      ],
      "execution_count": 39,
      "outputs": [
        {
          "output_type": "stream",
          "text": [
            "/usr/local/lib/python3.6/dist-packages/ipykernel_launcher.py:9: DataConversionWarning: A column-vector y was passed when a 1d array was expected. Please change the shape of y to (n_samples,), for example using ravel().\n",
            "  if __name__ == '__main__':\n"
          ],
          "name": "stderr"
        },
        {
          "output_type": "stream",
          "text": [
            "[ 3  5  6  1  2  6  7  1  6  9 15  5  1  9  5  1  3  9  6  7  3  2  1  6\n",
            "  9  4  1  5  2  6  1  5  2  6  9  2  1  9  7  1  9  3  1  5  7  6  9  5\n",
            "  9  1  5  3  2  6  5  6  5  6  1  3  7  4  5  2  4  7  6  3  4  7  9  4\n",
            "  1  6  3  9  7  5  1  3  6  5  9  3  5  6  7  4  6  5  7  9  5  1  7  4\n",
            "  3  1  7  3  6  9  5  4  9  7  2  3  2  5  7  3  4  3  4  2  1  7  2  4\n",
            "  6  3  2  1  3  5  4  6  3  4  9  1  3  6  1  6  2  3  6  1  2  1  5  7\n",
            "  2  3  5  1  9  7  6  5  6  2  3  1  4  3  9  6  4  1  5  6  7  4  1  2\n",
            "  5  4  1  1  5  3  5  2  6  3  1 13  2  6  1  9 13  4  2 12  5  9  7  2\n",
            " 12  4  1 12  9  1  3  9  1  6  5  3  5  4  2  6  3  7  2  6  5  1 12  2\n",
            "  5  1 12  7  9  2  1  3 13  6 13  9  3  7  9  3  4  9 12  4  9  5  2  6\n",
            "  4 15  3  1  5  1  3  5  1  7 13  6  7  5  2 13  1  3  7  1  5  9  2  4\n",
            "  5  2  6  1  6  3  2  7  5  9  5 13  1  2  6  7  1  4  7  9  2  7  1  2\n",
            "  4  7  9  1  5  2  6  1  3  2  6  9  1  5  3  1  5  6  9  1  5  7  1  9\n",
            "  3  4  9  2  4  6  2  5  5  2  2  1 10  6  1 13 10  2  1  5  3 13 10  1\n",
            "  5  2  6 13  9  3 10  6  5 10  5  3  7  9  5  3  9  1  5  2  6  1  5  7\n",
            "  6  1  5 10  7  5  3  2 10  9  1  6  3  6  1  5  9  2  3  1 10  2  6  9\n",
            "  1 13  7  1  9 10  9  7  3 10  5  6  1  1  2  3  9  6  3  7  9  5  9  5\n",
            "  2 10  5  6  9  7  5  9  6 10  5  1  6  3  6  5  1  2  9 10  9 10  1  2\n",
            "  6  1  5  7 10  2  6  3  2  6  9 10  2  9  3 10  1  9  3  2  9  1  2  5\n",
            "  9  2  1  5  6  5  3  6  9 10  6  2  7  6  1  7  2  6  1  7  9 10  3  7\n",
            "  3  1  5  3 10  2 15  5  7  1  3 10  1  6  5  2  1  9 10  5  2 10  3  5\n",
            " 10  7  9  1  3  5  6  3  1  1  3  5  1 11  2  8 10  1  8  7  2  8  9  7\n",
            " 10  9  1 10  3  7 10  8  2  1 11  7  1  8  7 10  9  1  2  7  2 11 10  3\n",
            "  9 10  8  3 10  1  7  9  3  2 10  1  3 11  9  8  7 11  8  2  3  3 10 10\n",
            "  3 10 11  2  9  3 10  1  9  7 10  2  1  8  2  9  1  3  2 10  3 10  1  8\n",
            "  1 11  9  3 11  2  3  2 10 11  1  9 10  3 11  7 11  7  9 11  1  2  8 10\n",
            "  9  7  9  7 10  1 11  3 11  2  1  1  1  9  2 10  5  6 10  3  1  2  6  9\n",
            "  7  1  2  9  5  2  3  5  6  7 10  5 10  7  1  6  2  5  3  6  2  1  5 10\n",
            "  1  9 10  6  1 10  6  2  3  5  1  3  2  1  3  5  6  2  1  5  5  6  2  5\n",
            "  5  2 14  6  5  2  1 10  9 14 10  5  9  6  1 10  2  5  1 14  2  9  5  9\n",
            "  5 14  1  3  5 14  1  9 10  1  2  6 14 10  3 14  5  3  6  1  6 14  1 10\n",
            " 15  5  1  2 14  3  9  1  1 14  5  1]\n",
            "Accuracy : 88.095%\n"
          ],
          "name": "stdout"
        }
      ]
    },
    {
      "cell_type": "code",
      "metadata": {
        "id": "agSgQ4-GkWZc",
        "colab": {
          "base_uri": "https://localhost:8080/",
          "height": 195
        },
        "outputId": "57a92511-fd49-4cb6-ad3d-eef5b72ea164"
      },
      "source": [
        "df.head()"
      ],
      "execution_count": 40,
      "outputs": [
        {
          "output_type": "execute_result",
          "data": {
            "text/html": [
              "<div>\n",
              "<style scoped>\n",
              "    .dataframe tbody tr th:only-of-type {\n",
              "        vertical-align: middle;\n",
              "    }\n",
              "\n",
              "    .dataframe tbody tr th {\n",
              "        vertical-align: top;\n",
              "    }\n",
              "\n",
              "    .dataframe thead th {\n",
              "        text-align: right;\n",
              "    }\n",
              "</style>\n",
              "<table border=\"1\" class=\"dataframe\">\n",
              "  <thead>\n",
              "    <tr style=\"text-align: right;\">\n",
              "      <th></th>\n",
              "      <th>team1</th>\n",
              "      <th>team2</th>\n",
              "      <th>city</th>\n",
              "      <th>toss_decision</th>\n",
              "      <th>toss_winner</th>\n",
              "      <th>venue</th>\n",
              "      <th>winner</th>\n",
              "    </tr>\n",
              "  </thead>\n",
              "  <tbody>\n",
              "    <tr>\n",
              "      <th>0</th>\n",
              "      <td>2</td>\n",
              "      <td>3</td>\n",
              "      <td>2</td>\n",
              "      <td>1</td>\n",
              "      <td>3</td>\n",
              "      <td>17</td>\n",
              "      <td>2</td>\n",
              "    </tr>\n",
              "    <tr>\n",
              "      <th>1</th>\n",
              "      <td>5</td>\n",
              "      <td>9</td>\n",
              "      <td>7</td>\n",
              "      <td>0</td>\n",
              "      <td>5</td>\n",
              "      <td>27</td>\n",
              "      <td>5</td>\n",
              "    </tr>\n",
              "    <tr>\n",
              "      <th>2</th>\n",
              "      <td>6</td>\n",
              "      <td>7</td>\n",
              "      <td>10</td>\n",
              "      <td>0</td>\n",
              "      <td>6</td>\n",
              "      <td>9</td>\n",
              "      <td>7</td>\n",
              "    </tr>\n",
              "    <tr>\n",
              "      <th>3</th>\n",
              "      <td>1</td>\n",
              "      <td>3</td>\n",
              "      <td>24</td>\n",
              "      <td>0</td>\n",
              "      <td>1</td>\n",
              "      <td>40</td>\n",
              "      <td>3</td>\n",
              "    </tr>\n",
              "    <tr>\n",
              "      <th>4</th>\n",
              "      <td>4</td>\n",
              "      <td>2</td>\n",
              "      <td>22</td>\n",
              "      <td>0</td>\n",
              "      <td>4</td>\n",
              "      <td>8</td>\n",
              "      <td>2</td>\n",
              "    </tr>\n",
              "  </tbody>\n",
              "</table>\n",
              "</div>"
            ],
            "text/plain": [
              "   team1  team2  city  toss_decision  toss_winner  venue  winner\n",
              "0      2      3     2              1            3     17       2\n",
              "1      5      9     7              0            5     27       5\n",
              "2      6      7    10              0            6      9       7\n",
              "3      1      3    24              0            1     40       3\n",
              "4      4      2    22              0            4      8       2"
            ]
          },
          "metadata": {
            "tags": []
          },
          "execution_count": 40
        }
      ]
    },
    {
      "cell_type": "code",
      "metadata": {
        "id": "RJtmY05Nkae6",
        "colab": {
          "base_uri": "https://localhost:8080/",
          "height": 195
        },
        "outputId": "3ac28de1-6e9c-4428-877c-e2fe6e5b81d5"
      },
      "source": [
        "test=pd.read_csv(\"test 1.csv\")\n",
        "test.head()"
      ],
      "execution_count": 41,
      "outputs": [
        {
          "output_type": "execute_result",
          "data": {
            "text/html": [
              "<div>\n",
              "<style scoped>\n",
              "    .dataframe tbody tr th:only-of-type {\n",
              "        vertical-align: middle;\n",
              "    }\n",
              "\n",
              "    .dataframe tbody tr th {\n",
              "        vertical-align: top;\n",
              "    }\n",
              "\n",
              "    .dataframe thead th {\n",
              "        text-align: right;\n",
              "    }\n",
              "</style>\n",
              "<table border=\"1\" class=\"dataframe\">\n",
              "  <thead>\n",
              "    <tr style=\"text-align: right;\">\n",
              "      <th></th>\n",
              "      <th>city</th>\n",
              "      <th>date</th>\n",
              "      <th>team1</th>\n",
              "      <th>team2</th>\n",
              "      <th>toss_winner</th>\n",
              "      <th>toss_decision</th>\n",
              "      <th>winner</th>\n",
              "      <th>venue</th>\n",
              "    </tr>\n",
              "  </thead>\n",
              "  <tbody>\n",
              "    <tr>\n",
              "      <th>0</th>\n",
              "      <td>3</td>\n",
              "      <td>6/1/2008</td>\n",
              "      <td>CSK</td>\n",
              "      <td>RR</td>\n",
              "      <td>RR</td>\n",
              "      <td>0</td>\n",
              "      <td>RR</td>\n",
              "      <td>8</td>\n",
              "    </tr>\n",
              "    <tr>\n",
              "      <th>1</th>\n",
              "      <td>13</td>\n",
              "      <td>5/24/2009</td>\n",
              "      <td>DC</td>\n",
              "      <td>RCB</td>\n",
              "      <td>RCB</td>\n",
              "      <td>0</td>\n",
              "      <td>DC</td>\n",
              "      <td>14</td>\n",
              "    </tr>\n",
              "    <tr>\n",
              "      <th>2</th>\n",
              "      <td>3</td>\n",
              "      <td>4/25/2010</td>\n",
              "      <td>CSK</td>\n",
              "      <td>MI</td>\n",
              "      <td>CSK</td>\n",
              "      <td>1</td>\n",
              "      <td>CSK</td>\n",
              "      <td>8</td>\n",
              "    </tr>\n",
              "    <tr>\n",
              "      <th>3</th>\n",
              "      <td>7</td>\n",
              "      <td>5/28/2011</td>\n",
              "      <td>CSK</td>\n",
              "      <td>RCB</td>\n",
              "      <td>CSK</td>\n",
              "      <td>1</td>\n",
              "      <td>CSK</td>\n",
              "      <td>7</td>\n",
              "    </tr>\n",
              "    <tr>\n",
              "      <th>4</th>\n",
              "      <td>7</td>\n",
              "      <td>5/27/2012</td>\n",
              "      <td>CSK</td>\n",
              "      <td>KKR</td>\n",
              "      <td>CSK</td>\n",
              "      <td>1</td>\n",
              "      <td>KKR</td>\n",
              "      <td>7</td>\n",
              "    </tr>\n",
              "  </tbody>\n",
              "</table>\n",
              "</div>"
            ],
            "text/plain": [
              "   city       date team1 team2 toss_winner  toss_decision winner  venue\n",
              "0     3   6/1/2008   CSK    RR          RR              0     RR      8\n",
              "1    13  5/24/2009    DC   RCB         RCB              0     DC     14\n",
              "2     3  4/25/2010   CSK    MI         CSK              1    CSK      8\n",
              "3     7  5/28/2011   CSK   RCB         CSK              1    CSK      7\n",
              "4     7  5/27/2012   CSK   KKR         CSK              1    KKR      7"
            ]
          },
          "metadata": {
            "tags": []
          },
          "execution_count": 41
        }
      ]
    },
    {
      "cell_type": "code",
      "metadata": {
        "id": "eSKxQ1fPIwUA"
      },
      "source": [
        "test = test.drop([\"date\",\"winner\"], axis=1,inplace=False)"
      ],
      "execution_count": 42,
      "outputs": []
    },
    {
      "cell_type": "code",
      "metadata": {
        "id": "O64EDTdDJ-_c",
        "colab": {
          "base_uri": "https://localhost:8080/",
          "height": 106
        },
        "outputId": "d56b2a53-8a09-4594-dc6e-bb8fa3293c23"
      },
      "source": [
        "test.replace(encode, inplace=True)\n",
        "test.head(2)"
      ],
      "execution_count": 43,
      "outputs": [
        {
          "output_type": "execute_result",
          "data": {
            "text/html": [
              "<div>\n",
              "<style scoped>\n",
              "    .dataframe tbody tr th:only-of-type {\n",
              "        vertical-align: middle;\n",
              "    }\n",
              "\n",
              "    .dataframe tbody tr th {\n",
              "        vertical-align: top;\n",
              "    }\n",
              "\n",
              "    .dataframe thead th {\n",
              "        text-align: right;\n",
              "    }\n",
              "</style>\n",
              "<table border=\"1\" class=\"dataframe\">\n",
              "  <thead>\n",
              "    <tr style=\"text-align: right;\">\n",
              "      <th></th>\n",
              "      <th>city</th>\n",
              "      <th>team1</th>\n",
              "      <th>team2</th>\n",
              "      <th>toss_winner</th>\n",
              "      <th>toss_decision</th>\n",
              "      <th>venue</th>\n",
              "    </tr>\n",
              "  </thead>\n",
              "  <tbody>\n",
              "    <tr>\n",
              "      <th>0</th>\n",
              "      <td>3</td>\n",
              "      <td>5</td>\n",
              "      <td>6</td>\n",
              "      <td>6</td>\n",
              "      <td>0</td>\n",
              "      <td>8</td>\n",
              "    </tr>\n",
              "    <tr>\n",
              "      <th>1</th>\n",
              "      <td>13</td>\n",
              "      <td>4</td>\n",
              "      <td>3</td>\n",
              "      <td>3</td>\n",
              "      <td>0</td>\n",
              "      <td>14</td>\n",
              "    </tr>\n",
              "  </tbody>\n",
              "</table>\n",
              "</div>"
            ],
            "text/plain": [
              "   city  team1  team2  toss_winner  toss_decision  venue\n",
              "0     3      5      6            6              0      8\n",
              "1    13      4      3            3              0     14"
            ]
          },
          "metadata": {
            "tags": []
          },
          "execution_count": 43
        }
      ]
    },
    {
      "cell_type": "code",
      "metadata": {
        "id": "tXf4YbD2KIpC",
        "colab": {
          "base_uri": "https://localhost:8080/"
        },
        "outputId": "a9c58a37-005a-4c12-a84f-370cb438be99"
      },
      "source": [
        "out = model.predict(test)\n",
        "out"
      ],
      "execution_count": 44,
      "outputs": [
        {
          "output_type": "execute_result",
          "data": {
            "text/plain": [
              "array([ 5,  3,  3,  5,  5,  1,  1,  1, 10,  5,  3,  5])"
            ]
          },
          "metadata": {
            "tags": []
          },
          "execution_count": 44
        }
      ]
    },
    {
      "cell_type": "code",
      "metadata": {
        "id": "KlLNcTJ8KQsI"
      },
      "source": [
        "predicted_winner=[]\n",
        "for i in out:\n",
        "    #print(list(dicVal.keys())[list(dicVal.values()).index(i)])\n",
        "    predicted_winner.append(list(Value.keys())[list(Value.values()).index(i)])"
      ],
      "execution_count": 45,
      "outputs": []
    },
    {
      "cell_type": "code",
      "metadata": {
        "id": "4aYrf7YiKa06",
        "colab": {
          "base_uri": "https://localhost:8080/"
        },
        "outputId": "b4f03591-bf03-47ac-a0fc-a561a6ca4e47"
      },
      "source": [
        "ipl=pd.read_csv('test 1.csv')\n",
        "ctr=0\n",
        "k=0\n",
        "total=len(ipl['winner'])\n",
        "for i in ipl['winner']:\n",
        "    if i==predicted_winner[k]:\n",
        "        ctr=ctr+1\n",
        "    k=k+1  \n",
        "print(ctr)\n",
        "print(\"Accuracy of our prediction of recent IPL is \", ctr/total)"
      ],
      "execution_count": 46,
      "outputs": [
        {
          "output_type": "stream",
          "text": [
            "4\n",
            "Accuracy of our prediction of recent IPL is  0.3333333333333333\n"
          ],
          "name": "stdout"
        }
      ]
    },
    {
      "cell_type": "code",
      "metadata": {
        "id": "RaHUjpU_Km8x",
        "colab": {
          "base_uri": "https://localhost:8080/"
        },
        "outputId": "475a1763-a793-48e2-fb45-a15ab55c32b6"
      },
      "source": [
        "predicted_winner"
      ],
      "execution_count": 47,
      "outputs": [
        {
          "output_type": "execute_result",
          "data": {
            "text/plain": [
              "['CSK',\n",
              " 'RCB',\n",
              " 'RCB',\n",
              " 'CSK',\n",
              " 'CSK',\n",
              " 'MI',\n",
              " 'MI',\n",
              " 'MI',\n",
              " 'SRH',\n",
              " 'CSK',\n",
              " 'RCB',\n",
              " 'CSK']"
            ]
          },
          "metadata": {
            "tags": []
          },
          "execution_count": 47
        }
      ]
    },
    {
      "cell_type": "code",
      "metadata": {
        "id": "x4QOABBjK8Dt"
      },
      "source": [
        "tub = pd.DataFrame()\n",
        "tub['team1'] = ipl['team1']\n",
        "tub['team2'] = ipl['team2']\n",
        "tub['venue'] = ipl['venue']\n",
        "tub['toss_winner'] =ipl['toss_winner']\n",
        "tub['city'] = ipl['city']\n",
        "tub['toss_decision'] = ipl['toss_decision']\n",
        "tub['date of match']=ipl['date']\n",
        "tub['actual_winner']=ipl[\"winner\"]\n",
        "tub['Predicted_winner'] = predicted_winner\n",
        "tub.to_csv('ipl2.csv',index=False)"
      ],
      "execution_count": 48,
      "outputs": []
    },
    {
      "cell_type": "code",
      "metadata": {
        "id": "-svtb_Q2LtAB",
        "colab": {
          "base_uri": "https://localhost:8080/",
          "height": 343
        },
        "outputId": "36fa581f-7473-47d4-e0d1-612d4b9547d8"
      },
      "source": [
        "tub.head(10)"
      ],
      "execution_count": 49,
      "outputs": [
        {
          "output_type": "execute_result",
          "data": {
            "text/html": [
              "<div>\n",
              "<style scoped>\n",
              "    .dataframe tbody tr th:only-of-type {\n",
              "        vertical-align: middle;\n",
              "    }\n",
              "\n",
              "    .dataframe tbody tr th {\n",
              "        vertical-align: top;\n",
              "    }\n",
              "\n",
              "    .dataframe thead th {\n",
              "        text-align: right;\n",
              "    }\n",
              "</style>\n",
              "<table border=\"1\" class=\"dataframe\">\n",
              "  <thead>\n",
              "    <tr style=\"text-align: right;\">\n",
              "      <th></th>\n",
              "      <th>team1</th>\n",
              "      <th>team2</th>\n",
              "      <th>venue</th>\n",
              "      <th>toss_winner</th>\n",
              "      <th>city</th>\n",
              "      <th>toss_decision</th>\n",
              "      <th>date of match</th>\n",
              "      <th>actual_winner</th>\n",
              "      <th>Predicted_winner</th>\n",
              "    </tr>\n",
              "  </thead>\n",
              "  <tbody>\n",
              "    <tr>\n",
              "      <th>0</th>\n",
              "      <td>CSK</td>\n",
              "      <td>RR</td>\n",
              "      <td>8</td>\n",
              "      <td>RR</td>\n",
              "      <td>3</td>\n",
              "      <td>0</td>\n",
              "      <td>6/1/2008</td>\n",
              "      <td>RR</td>\n",
              "      <td>CSK</td>\n",
              "    </tr>\n",
              "    <tr>\n",
              "      <th>1</th>\n",
              "      <td>DC</td>\n",
              "      <td>RCB</td>\n",
              "      <td>14</td>\n",
              "      <td>RCB</td>\n",
              "      <td>13</td>\n",
              "      <td>0</td>\n",
              "      <td>5/24/2009</td>\n",
              "      <td>DC</td>\n",
              "      <td>RCB</td>\n",
              "    </tr>\n",
              "    <tr>\n",
              "      <th>2</th>\n",
              "      <td>CSK</td>\n",
              "      <td>MI</td>\n",
              "      <td>8</td>\n",
              "      <td>CSK</td>\n",
              "      <td>3</td>\n",
              "      <td>1</td>\n",
              "      <td>4/25/2010</td>\n",
              "      <td>CSK</td>\n",
              "      <td>RCB</td>\n",
              "    </tr>\n",
              "    <tr>\n",
              "      <th>3</th>\n",
              "      <td>CSK</td>\n",
              "      <td>RCB</td>\n",
              "      <td>7</td>\n",
              "      <td>CSK</td>\n",
              "      <td>7</td>\n",
              "      <td>1</td>\n",
              "      <td>5/28/2011</td>\n",
              "      <td>CSK</td>\n",
              "      <td>CSK</td>\n",
              "    </tr>\n",
              "    <tr>\n",
              "      <th>4</th>\n",
              "      <td>CSK</td>\n",
              "      <td>KKR</td>\n",
              "      <td>7</td>\n",
              "      <td>CSK</td>\n",
              "      <td>7</td>\n",
              "      <td>1</td>\n",
              "      <td>5/27/2012</td>\n",
              "      <td>KKR</td>\n",
              "      <td>CSK</td>\n",
              "    </tr>\n",
              "    <tr>\n",
              "      <th>5</th>\n",
              "      <td>MI</td>\n",
              "      <td>CSK</td>\n",
              "      <td>4</td>\n",
              "      <td>MI</td>\n",
              "      <td>4</td>\n",
              "      <td>1</td>\n",
              "      <td>5/26/2013</td>\n",
              "      <td>MI</td>\n",
              "      <td>MI</td>\n",
              "    </tr>\n",
              "    <tr>\n",
              "      <th>6</th>\n",
              "      <td>KXIP</td>\n",
              "      <td>KKR</td>\n",
              "      <td>0</td>\n",
              "      <td>KKR</td>\n",
              "      <td>0</td>\n",
              "      <td>0</td>\n",
              "      <td>6/1/2014</td>\n",
              "      <td>KKR</td>\n",
              "      <td>MI</td>\n",
              "    </tr>\n",
              "    <tr>\n",
              "      <th>7</th>\n",
              "      <td>MI</td>\n",
              "      <td>CSK</td>\n",
              "      <td>4</td>\n",
              "      <td>CSK</td>\n",
              "      <td>4</td>\n",
              "      <td>0</td>\n",
              "      <td>5/24/2015</td>\n",
              "      <td>MI</td>\n",
              "      <td>MI</td>\n",
              "    </tr>\n",
              "    <tr>\n",
              "      <th>8</th>\n",
              "      <td>SRH</td>\n",
              "      <td>RCB</td>\n",
              "      <td>0</td>\n",
              "      <td>SRH</td>\n",
              "      <td>0</td>\n",
              "      <td>1</td>\n",
              "      <td>5/29/2016</td>\n",
              "      <td>SRH</td>\n",
              "      <td>SRH</td>\n",
              "    </tr>\n",
              "    <tr>\n",
              "      <th>9</th>\n",
              "      <td>MI</td>\n",
              "      <td>RPS</td>\n",
              "      <td>6</td>\n",
              "      <td>MI</td>\n",
              "      <td>6</td>\n",
              "      <td>1</td>\n",
              "      <td>5/21/2017</td>\n",
              "      <td>MI</td>\n",
              "      <td>CSK</td>\n",
              "    </tr>\n",
              "  </tbody>\n",
              "</table>\n",
              "</div>"
            ],
            "text/plain": [
              "  team1 team2  venue  ... date of match  actual_winner  Predicted_winner\n",
              "0   CSK    RR      8  ...      6/1/2008             RR               CSK\n",
              "1    DC   RCB     14  ...     5/24/2009             DC               RCB\n",
              "2   CSK    MI      8  ...     4/25/2010            CSK               RCB\n",
              "3   CSK   RCB      7  ...     5/28/2011            CSK               CSK\n",
              "4   CSK   KKR      7  ...     5/27/2012            KKR               CSK\n",
              "5    MI   CSK      4  ...     5/26/2013             MI                MI\n",
              "6  KXIP   KKR      0  ...      6/1/2014            KKR                MI\n",
              "7    MI   CSK      4  ...     5/24/2015             MI                MI\n",
              "8   SRH   RCB      0  ...     5/29/2016            SRH               SRH\n",
              "9    MI   RPS      6  ...     5/21/2017             MI               CSK\n",
              "\n",
              "[10 rows x 9 columns]"
            ]
          },
          "metadata": {
            "tags": []
          },
          "execution_count": 49
        }
      ]
    },
    {
      "cell_type": "code",
      "metadata": {
        "id": "VZ9GE-2pRAxe",
        "colab": {
          "base_uri": "https://localhost:8080/"
        },
        "outputId": "6ee6b199-e012-48e8-c563-05e14562d97b"
      },
      "source": [
        "#feature importances: If we ignore teams, Venue seems to be one of important factors in determining winners \n",
        "#followed by toss winning, city\n",
        "print()\n",
        "print(\"Feature importances: If we ignore teams, Venue seems to be one of important factors in determining winners followed by toss winning, city\")\n",
        "imp_input = pd.Series(model.feature_importances_, index=predictor_var).sort_values(ascending=False)\n",
        "print()\n",
        "print(imp_input)"
      ],
      "execution_count": 50,
      "outputs": [
        {
          "output_type": "stream",
          "text": [
            "\n",
            "Feature importances: If we ignore teams, Venue seems to be one of important factors in determining winners followed by toss winning, city\n",
            "\n",
            "team2            0.243313\n",
            "team1            0.225053\n",
            "venue            0.175846\n",
            "toss_winner      0.169915\n",
            "city             0.153892\n",
            "toss_decision    0.031980\n",
            "dtype: float64\n"
          ],
          "name": "stdout"
        }
      ]
    },
    {
      "cell_type": "code",
      "metadata": {
        "id": "TYehhR0dRObM",
        "colab": {
          "base_uri": "https://localhost:8080/",
          "height": 381
        },
        "outputId": "bec3a67e-1e78-4048-fdc4-a0040d295154"
      },
      "source": [
        "#probability of match winning by winning toss for CSK\n",
        "#df['toss_winner'].value_counts()\n",
        "count =0\n",
        "for i in range(577): \n",
        "    if df[\"toss_winner\"][i]==df[\"winner\"][i]==5 :\n",
        "        count=count+1\n",
        "#okay from the above prediction on features, we notice toss winner has least chances of winning matches\n",
        "#but does the current stats shows the same result\n",
        "#df.count --> 577 rows\n",
        "import matplotlib.pyplot as mlt\n",
        "mlt.style.use('fivethirtyeight')\n",
        "#df_fil=df[df['toss_winner']==df['winner']]\n",
        "df_fil=df[df['toss_winner']==1]\n",
        "#slices=[len(df_fil),(577-len(df_fil))]\n",
        "slices=[count,(len(df_fil)-count)]\n",
        "mlt.pie(slices,labels=['Toss & win','Toss & lose'],startangle=90,shadow=True,explode=(0,0),autopct='%1.1f%%',colors=['g','b'])\n",
        "fig = mlt.gcf()\n",
        "fig.set_size_inches(6,6)\n",
        "mlt.show()\n",
        "\n",
        "# Toss winning does not gaurantee a match win from analysis of current stats and thus \n",
        "#prediction feature gives less weightage to that"
      ],
      "execution_count": 51,
      "outputs": [
        {
          "output_type": "display_data",
          "data": {
            "image/png": "[encoded data removed]",
            "text/plain": [
              "<Figure size 432x432 with 1 Axes>"
            ]
          },
          "metadata": {
            "tags": []
          }
        }
      ]
    },
    {
      "cell_type": "code",
      "metadata": {
        "id": "kzpsVGEwWwMT",
        "colab": {
          "base_uri": "https://localhost:8080/",
          "height": 945
        },
        "outputId": "4c17fc8c-cfe0-4e0b-c2ad-a864c2f87965"
      },
      "source": [
        "import seaborn as sns\n",
        "mlt.subplots(figsize=(10,15))\n",
        "ax = matches['venue'].value_counts().sort_values(ascending=True).plot.barh(width=.9,color=sns.color_palette('inferno',40))\n",
        "ax.set_xlabel('Grounds')\n",
        "ax.set_ylabel('count')\n",
        "mlt.show()"
      ],
      "execution_count": 52,
      "outputs": [
        {
          "output_type": "display_data",
          "data": {
            "image/png": "[encoded data removed]",
            "text/plain": [
              "<Figure size 720x1080 with 1 Axes>"
            ]
          },
          "metadata": {
            "tags": []
          }
        }
      ]
    },
    {
      "cell_type": "code",
      "metadata": {
        "id": "Zy_VMJuaXinS",
        "colab": {
          "base_uri": "https://localhost:8080/",
          "height": 381
        },
        "outputId": "95d2c2a4-81a0-43a5-edd8-bd992bd29d0e"
      },
      "source": [
        "#genralised probbaility for winning match by winning toss\n",
        "\n",
        "\n",
        "import matplotlib.pyplot as mlt\n",
        "mlt.style.use('fivethirtyeight')\n",
        "df_fil=df[df['toss_winner']==df['winner']]\n",
        "\n",
        "slices=[len(df_fil),(577-len(df_fil))]\n",
        "\n",
        "mlt.pie(slices,labels=['Toss & win','Toss & lose'],startangle=90,shadow=True,explode=(0,0),autopct='%1.1f%%',colors=['r','g'])\n",
        "fig = mlt.gcf()\n",
        "fig.set_size_inches(6,6)\n",
        "mlt.show()"
      ],
      "execution_count": 53,
      "outputs": [
        {
          "output_type": "display_data",
          "data": {
            "image/png": "[encoded data removed]",
            "text/plain": [
              "<Figure size 432x432 with 1 Axes>"
            ]
          },
          "metadata": {
            "tags": []
          }
        }
      ]
    },
    {
      "cell_type": "code",
      "metadata": {
        "id": "XbmoD-08Xv23",
        "colab": {
          "base_uri": "https://localhost:8080/",
          "height": 442
        },
        "outputId": "77dc6dfe-7153-4026-ff30-2f1c4b704ebb"
      },
      "source": [
        "#top 2 team analysis based on number of matches won against each other and how venue affects them?\n",
        "#Previously we noticed that CSK won , RCB won 70 matches\n",
        "#now let us compare venue against a match between CSK and RCB\n",
        "#we find that CSK has won most matches against RCB in MA Chidambaram Stadium, Chepauk, Chennai\n",
        "#RCB has not won any match with CSK in stadiums St George's Park and Wankhede Stadium, but won matches\n",
        "#with CSK in Kingsmead, New Wanderers Stadium.\n",
        "#It does prove that chances of CSK winning is more in Chepauk stadium when played against RCB.\n",
        "# Proves venue is important feature in predictability\n",
        "import seaborn as sns\n",
        "team1=Value['CSK']\n",
        "team2=Value['RCB']\n",
        "mtemp=matches[((matches['team1']==team1)|(matches['team2']==team1))&((matches['team1']==team2)|(matches['team2']==team2))]\n",
        "sns.countplot(x='venue', hue='winner',data=mtemp,palette='Set3')\n",
        "mlt.xticks(rotation='vertical')\n",
        "leg = mlt.legend( loc = 'upper right')\n",
        "fig=mlt.gcf()\n",
        "fig.set_size_inches(10,6)\n",
        "mlt.show()\n",
        "le.classes_[10]"
      ],
      "execution_count": 54,
      "outputs": [
        {
          "output_type": "display_data",
          "data": {
            "image/png": "[encoded data removed]",
            "text/plain": [
              "<Figure size 720x432 with 1 Axes>"
            ]
          },
          "metadata": {
            "tags": []
          }
        },
        {
          "output_type": "execute_result",
          "data": {
            "application/vnd.google.colaboratory.intrinsic+json": {
              "type": "string"
            },
            "text/plain": [
              "'Feroz Shah Kotla Ground'"
            ]
          },
          "metadata": {
            "tags": []
          },
          "execution_count": 54
        }
      ]
    }
  ]
}